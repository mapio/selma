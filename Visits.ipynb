{
 "cells": [
  {
   "cell_type": "code",
   "execution_count": 1,
   "metadata": {},
   "outputs": [],
   "source": [
    "from manim import *\n",
    "\n",
    "from selma.datastructures import *"
   ]
  },
  {
   "cell_type": "code",
   "execution_count": 2,
   "metadata": {},
   "outputs": [
    {
     "name": "stderr",
     "output_type": "stream",
     "text": [
      "                                                                                                               \r"
     ]
    },
    {
     "data": {
      "text/html": [
       "<video src=\"media/jupyter/FirstScene@2025-02-22@07-14-18.mp4\" controls autoplay loop style=\"max-width: 60%;\"  >\n",
       "      Your browser does not support the <code>video</code> element.\n",
       "    </video>"
      ],
      "text/plain": [
       "<IPython.core.display.Video object>"
      ]
     },
     "metadata": {},
     "output_type": "display_data"
    }
   ],
   "source": [
    "%%manim --hide-splash -qm -v WARNING FirstScene\n",
    "\n",
    "class FirstScene(Scene):\n",
    "  def construct(self):\n",
    "    \n",
    "    Q = MQueue(scale=.5)\n",
    "    Q.rect.to_edge(UP)\n",
    "    self.add(Q.rect)\n",
    "    \n",
    "    def re(element):\n",
    "      text = Text(element, color=WHITE)\n",
    "      return VGroup(text, Rectangle(width = text.width + 0.4, height = .8, color=RED)).scale(.5)\n",
    "\n",
    "    Q.enqueue(re(\"Hello\")).play(self)    \n",
    "    Q.enqueue(re(\"world\")).play(self)\n",
    "    Q.dequeue().play(self)\n",
    "    Q.enqueue(re(\"this\")).play(self)\n",
    "    Q.enqueue(re(\"is\")).play(self)\n",
    "    Q.dequeue().play(self)\n",
    "    Q.dequeue().play(self)\n",
    "    Q.dequeue().play(self)\n",
    "    "
   ]
  },
  {
   "cell_type": "code",
   "execution_count": 3,
   "metadata": {},
   "outputs": [
    {
     "name": "stderr",
     "output_type": "stream",
     "text": [
      "                                                                                                               \r"
     ]
    },
    {
     "data": {
      "text/html": [
       "<video src=\"media/jupyter/SecondScene@2025-02-22@07-14-27.mp4\" controls autoplay loop style=\"max-width: 60%;\"  >\n",
       "      Your browser does not support the <code>video</code> element.\n",
       "    </video>"
      ],
      "text/plain": [
       "<IPython.core.display.Video object>"
      ]
     },
     "metadata": {},
     "output_type": "display_data"
    }
   ],
   "source": [
    "%%manim --hide-splash -qm -v WARNING SecondScene\n",
    "\n",
    "class SecondScene(Scene):\n",
    "  def construct(self):\n",
    "    \n",
    "    S = MStack(scale=.5)\n",
    "    S.rect.to_edge(UP)\n",
    "    self.add(S.rect)\n",
    "    \n",
    "    def re(element):\n",
    "      text = Text(element, color=WHITE)\n",
    "      return VGroup(text, Rectangle(width = text.width + 0.4, height = .8, color=RED)).scale(.5)\n",
    "\n",
    "    S.push(re(\"Hello\")).play(self)    \n",
    "    S.push(re(\"world\")).play(self)\n",
    "    S.pop().play(self)\n",
    "    S.push(re(\"this\")).play(self)\n",
    "    S.push(re(\"is\")).play(self)\n",
    "    S.pop().play(self)\n",
    "    S.pop().play(self)\n",
    "    S.pop().play(self)\n",
    "    "
   ]
  }
 ],
 "metadata": {
  "kernelspec": {
   "display_name": ".venv",
   "language": "python",
   "name": "python3"
  },
  "language_info": {
   "codemirror_mode": {
    "name": "ipython",
    "version": 3
   },
   "file_extension": ".py",
   "mimetype": "text/x-python",
   "name": "python",
   "nbconvert_exporter": "python",
   "pygments_lexer": "ipython3",
   "version": "3.12.3"
  }
 },
 "nbformat": 4,
 "nbformat_minor": 2
}
