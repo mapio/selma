{
 "cells": [
  {
   "cell_type": "code",
   "execution_count": 4,
   "metadata": {},
   "outputs": [],
   "source": [
    "import random\n",
    "import re\n",
    "from collections import defaultdict\n",
    "from pathlib import Path\n",
    "import networkx as nx\n",
    "from manim import *\n",
    "from selma import BACKGROUND\n",
    "from selma.graph import MGraph, gvlayout_factory, test_draw\n",
    "from selma.mklm import MarkovChainTextGenerator\n",
    "from pathlib import Path\n",
    "\n",
    "config.background_color = BACKGROUND"
   ]
  },
  {
   "cell_type": "code",
   "execution_count": 5,
   "metadata": {},
   "outputs": [],
   "source": [
    "corpora = {\n",
    "  'mc': \"\"\"\n",
    "Markov chains are mathematical systems that undergo transitions from one state to another \n",
    "on a state space. A sequence of possible events in which the probability of each event \n",
    "depends only on the state attained in the previous event is called a Markov chain.\n",
    "\"\"\",\n",
    "  'ttls': \"\"\"\n",
    "Twinkle, twinkle, little star,\n",
    "How I wonder what you are!\n",
    "Up above the world so high,\n",
    "Like a diamond in the sky.\n",
    "\"\"\",\n",
    "  'gadda': 'Come poco pepe a coppia cuoce e scoppia',  # Gadda\n",
    "  'giovanni': 'In principio era il Verbo, e il Verbo era presso Dio, e il Verbo era Dio',  # dal Vangelo di Giovanni, 1:1\n",
    "  'commedia': Path('../../data/commedia.txt').read_text(),\n",
    "  'promessi': Path('../../data/papini.txt').read_text(),\n",
    "}"
   ]
  },
  {
   "cell_type": "code",
   "execution_count": 6,
   "metadata": {},
   "outputs": [],
   "source": [
    "def clean_text(corpus):\n",
    "  res = [' ']\n",
    "  for c in corpus:\n",
    "    l = c.lower()\n",
    "    if l.isalpha():\n",
    "      res.append(l)\n",
    "    elif l == ' ' and res[-1] != ' ':\n",
    "      res.append(' ')\n",
    "  return ''.join(res[1:])"
   ]
  },
  {
   "cell_type": "code",
   "execution_count": 7,
   "metadata": {},
   "outputs": [],
   "source": [
    "CORPUS = 'giovanni'\n",
    "\n",
    "ORDER = 1\n",
    "generator = MarkovChainTextGenerator(\n",
    "  order=ORDER, token_type='word', smoothing_alpha=0, interpolation=False\n",
    ")\n",
    "generator.train(clean_text(corpora[CORPUS]))"
   ]
  },
  {
   "cell_type": "code",
   "execution_count": 8,
   "metadata": {},
   "outputs": [
    {
     "data": {
      "text/plain": [
       "'dio e il verbo era presso dio e il verbo era presso dio e il verbo era il verbo e il verbo era il verbo era il verbo era dio e il verbo e il verbo era presso dio e il verbo e il verbo era il verbo era il verbo e il verbo era dio e il verbo e il verbo era presso dio e il verbo e il verbo e il verbo era dio e il verbo era presso dio e il verbo era dio e il verbo era dio e il verbo era il verbo era dio'"
      ]
     },
     "execution_count": 8,
     "metadata": {},
     "output_type": "execute_result"
    }
   ],
   "source": [
    "generator.generate('dio', length=100)"
   ]
  },
  {
   "cell_type": "code",
   "execution_count": 9,
   "metadata": {},
   "outputs": [],
   "source": [
    "def build_markov_chain(scene, corpus, by_char, layout, node_scale, order=1):\n",
    "  data = (\n",
    "    [c for c in clean_text(corpus) if c != ' ']\n",
    "    if by_char\n",
    "    else clean_text(corpus).split()\n",
    "  )\n",
    "\n",
    "  T = Tex(*[ts for t in data for ts in (t, ' ')], color=BLACK).scale(0.9)\n",
    "  T.to_edge(UL)\n",
    "  scene.add(T)\n",
    "\n",
    "  tokens = (\n",
    "    data\n",
    "    if order == 1\n",
    "    else [\n",
    "      ('' if by_char else ' ').join(data[i : i + order]) for i in range(len(data) - 1)\n",
    "    ]\n",
    "  )\n",
    "\n",
    "  edges = list(zip(tokens, tokens[1:]))\n",
    "  G = nx.DiGraph(set(edges))\n",
    "  weight = {e: 0 for e in G.edges()}\n",
    "  G.remove_edges_from(nx.selfloop_edges(G))\n",
    "\n",
    "  MG = MGraph(G, layout=layout, node_scale=node_scale)\n",
    "\n",
    "  def highlight(t):\n",
    "    mt = MG.mnode(t)\n",
    "    mt.z_index = 1\n",
    "    mt.set_stroke(color=PURE_GREEN)\n",
    "    tg = VGroup(*[T[i] for i in range(highlight.step, highlight.step + 1 + order)])\n",
    "    tg.set_color(PURE_GREEN)\n",
    "    scene.add(mt)\n",
    "    scene.wait(0.5)\n",
    "    mt.set_stroke(color=DARK_BROWN)\n",
    "    tg.set_color(BLACK)\n",
    "    highlight.step += 2\n",
    "\n",
    "  highlight.step = 0\n",
    "\n",
    "  highlight(edges[0][0])\n",
    "  for s, t in edges:\n",
    "    weight[(s, t)] += 1\n",
    "    if s != t:\n",
    "      me = MG.medge(s, t)\n",
    "      me.z_index = 0\n",
    "      me.set_stroke(width=weight[(s, t)] * 2, color=PURE_GREEN)\n",
    "      scene.add(me)\n",
    "    else:\n",
    "      me = None\n",
    "    highlight(t)\n",
    "    if me:\n",
    "      me.set_stroke(color=BLACK)\n",
    "      \n",
    "  return weight"
   ]
  },
  {
   "cell_type": "code",
   "execution_count": 49,
   "metadata": {},
   "outputs": [
    {
     "data": {
      "text/html": [
       "<video src=\"media/jupyter/MarkovByChar@2025-03-01@08-24-48.mp4\" controls autoplay loop style=\"max-width: 60%;\"  >\n",
       "      Your browser does not support the <code>video</code> element.\n",
       "    </video>"
      ],
      "text/plain": [
       "<IPython.core.display.Video object>"
      ]
     },
     "metadata": {},
     "output_type": "display_data"
    }
   ],
   "source": [
    "%%manim --hide-splash -qm -v WARNING MarkovByChar\n",
    "\n",
    "results = {}\n",
    "\n",
    "class MarkovByChar(Scene):\n",
    "  def construct(self):\n",
    "    results['gadda3'] = build_markov_chain(self, corpora['gadda'], by_char=True, layout = gvlayout_factory('neato', heightscale=.5), node_scale=.8, order = 3)\n"
   ]
  },
  {
   "cell_type": "code",
   "execution_count": 41,
   "metadata": {},
   "outputs": [
    {
     "data": {
      "text/html": [
       "<video src=\"media/jupyter/MarkovByWord@2025-03-01@08-21-22.mp4\" controls autoplay loop style=\"max-width: 60%;\"  >\n",
       "      Your browser does not support the <code>video</code> element.\n",
       "    </video>"
      ],
      "text/plain": [
       "<IPython.core.display.Video object>"
      ]
     },
     "metadata": {},
     "output_type": "display_data"
    }
   ],
   "source": [
    "%%manim --hide-splash -qm -v WARNING MarkovByWord\n",
    "\n",
    "class MarkovByWord(Scene):\n",
    "  def construct(self):\n",
    "    results['giovanni2'] = build_markov_chain(self, corpora['giovanni'], by_char=False, layout = gvlayout_factory('neato', heightscale=.6), node_scale=.6, order = 2)\n"
   ]
  },
  {
   "cell_type": "code",
   "execution_count": 75,
   "metadata": {},
   "outputs": [
    {
     "data": {
      "text/plain": [
       "{('cop', 'ope'): 1,\n",
       " ('cop', 'opp'): 2,\n",
       " ('ope', 'pep'): 1,\n",
       " ('ome', 'mep'): 1,\n",
       " ('mep', 'epo'): 1,\n",
       " ('epe', 'pea'): 1,\n",
       " ('pea', 'eac'): 1,\n",
       " ('ppi', 'pia'): 2,\n",
       " ('pia', 'iac'): 1,\n",
       " ('pia', 'ia'): 1,\n",
       " ('oco', 'cop'): 1,\n",
       " ('acu', 'cuo'): 1,\n",
       " ('cuo', 'uoc'): 1,\n",
       " ('eac', 'aco'): 1,\n",
       " ('aco', 'cop'): 1,\n",
       " ('epo', 'poc'): 1,\n",
       " ('iac', 'acu'): 1,\n",
       " ('sco', 'cop'): 1,\n",
       " ('poc', 'oco'): 1,\n",
       " ('ees', 'esc'): 1,\n",
       " ('esc', 'sco'): 1,\n",
       " ('opp', 'ppi'): 2,\n",
       " ('pep', 'epe'): 1,\n",
       " ('uoc', 'oce'): 1,\n",
       " ('oce', 'cee'): 1,\n",
       " ('cee', 'ees'): 1,\n",
       " ('com', 'ome'): 1}"
      ]
     },
     "execution_count": 75,
     "metadata": {},
     "output_type": "execute_result"
    }
   ],
   "source": [
    "w = results['gadda3']\n",
    "w"
   ]
  },
  {
   "cell_type": "code",
   "execution_count": 99,
   "metadata": {},
   "outputs": [],
   "source": [
    "import random\n",
    "\n",
    "def next_weight(weight):\n",
    "  return {s: dict(sorted({t: weight[(s, t)] for ss, t in w.keys() if ss == s}.items())) for s, _ in weight}\n",
    "\n",
    "def mk_rnd_next(next_weight, seed = None):\n",
    "  rng = random.Random(seed)\n",
    "  def rnd_next(s):\n",
    "    if s not in next_weight: return None\n",
    "    total = sum(next_weight[s].values())\n",
    "    r = rng.uniform(0, total)\n",
    "    upto = 0\n",
    "    for t, w in next_weight[s].items():\n",
    "      if upto + w >= r:\n",
    "        return t\n",
    "      upto += w\n",
    "  return rnd_next\n",
    "\n"
   ]
  },
  {
   "cell_type": "code",
   "execution_count": 109,
   "metadata": {},
   "outputs": [],
   "source": [
    "nw = next_weight(w)"
   ]
  },
  {
   "cell_type": "code",
   "execution_count": 110,
   "metadata": {},
   "outputs": [],
   "source": [
    "rn = mk_rnd_next(nw, 42)"
   ]
  },
  {
   "cell_type": "code",
   "execution_count": 111,
   "metadata": {},
   "outputs": [],
   "source": [
    "def generate(rn, s, max_len=100):\n",
    "  res = [s]\n",
    "  while len(res) <= max_len:\n",
    "    n = rn(res[-1])\n",
    "    if n is None:\n",
    "      break\n",
    "    res.append(n)\n",
    "  return res"
   ]
  },
  {
   "cell_type": "code",
   "execution_count": 112,
   "metadata": {},
   "outputs": [
    {
     "data": {
      "text/plain": [
       "'coppi'"
      ]
     },
     "execution_count": 112,
     "metadata": {},
     "output_type": "execute_result"
    }
   ],
   "source": [
    "''.join(g[0] for g in generate(rn, 'cop', 30))"
   ]
  },
  {
   "cell_type": "code",
   "execution_count": 113,
   "metadata": {},
   "outputs": [],
   "source": [
    "nw0 = {'.': {c: 1 for c in clean_text(corpora['gadda']) if c != ' '}}"
   ]
  },
  {
   "cell_type": "code",
   "execution_count": 114,
   "metadata": {},
   "outputs": [],
   "source": [
    "rn = mk_rnd_next(nw0, 42)"
   ]
  },
  {
   "cell_type": "code",
   "execution_count": 115,
   "metadata": {},
   "outputs": [
    {
     "data": {
      "text/plain": [
       "'acmmiiscec'"
      ]
     },
     "execution_count": 115,
     "metadata": {},
     "output_type": "execute_result"
    }
   ],
   "source": [
    "''.join(rn('.') for _ in range(10))"
   ]
  }
 ],
 "metadata": {
  "kernelspec": {
   "display_name": ".venv",
   "language": "python",
   "name": "python3"
  },
  "language_info": {
   "codemirror_mode": {
    "name": "ipython",
    "version": 3
   },
   "file_extension": ".py",
   "mimetype": "text/x-python",
   "name": "python",
   "nbconvert_exporter": "python",
   "pygments_lexer": "ipython3",
   "version": "3.12.3"
  }
 },
 "nbformat": 4,
 "nbformat_minor": 2
}
