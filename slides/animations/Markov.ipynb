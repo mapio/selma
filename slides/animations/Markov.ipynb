{
 "cells": [
  {
   "cell_type": "code",
   "execution_count": 1,
   "metadata": {},
   "outputs": [],
   "source": [
    "from manim import *\n",
    "\n",
    "from selma import BACKGROUND\n",
    "from selma.graph import *\n",
    "from selma.mklm import *\n",
    "\n",
    "from markov import *\n",
    "\n",
    "config.background_color = BACKGROUND"
   ]
  },
  {
   "cell_type": "code",
   "execution_count": 2,
   "metadata": {},
   "outputs": [],
   "source": [
    "import logging\n",
    "\n",
    "logging.getLogger('manim').setLevel(logging.ERROR)"
   ]
  },
  {
   "cell_type": "code",
   "execution_count": 16,
   "metadata": {},
   "outputs": [],
   "source": [
    "TrainByWordGiovanni2().construct()"
   ]
  },
  {
   "cell_type": "code",
   "execution_count": 17,
   "metadata": {},
   "outputs": [
    {
     "data": {
      "text/plain": [
       "{('il verbo', 'verbo era'): 2,\n",
       " ('il verbo', 'verbo e'): 1,\n",
       " ('verbo era', 'era dio'): 1,\n",
       " ('verbo era', 'era presso'): 1,\n",
       " ('verbo e', 'e il'): 1,\n",
       " ('principio era', 'era il'): 1,\n",
       " ('era il', 'il verbo'): 1,\n",
       " ('dio e', 'e il'): 1,\n",
       " ('e il', 'il verbo'): 2,\n",
       " ('in principio', 'principio era'): 1,\n",
       " ('era presso', 'presso dio'): 1,\n",
       " ('presso dio', 'dio e'): 1}"
      ]
     },
     "execution_count": 17,
     "metadata": {},
     "output_type": "execute_result"
    }
   ],
   "source": [
    "RESULTS['giovanni2']"
   ]
  },
  {
   "cell_type": "code",
   "execution_count": 5,
   "metadata": {},
   "outputs": [
    {
     "data": {
      "text/plain": [
       "'era il presso verbo era era e il in il verbo dio il verbo era dio verbo dio principio il'"
      ]
     },
     "execution_count": 5,
     "metadata": {},
     "output_type": "execute_result"
    }
   ],
   "source": [
    "nw0 = next_weight0(\n",
    "  tokenize(clean_text(CORPORA['giovanni']), by_char=False),\n",
    ")\n",
    "' '.join(generate0(mk_rnd_next(nw0, 42), 20))"
   ]
  },
  {
   "cell_type": "code",
   "execution_count": 23,
   "metadata": {},
   "outputs": [
    {
     "name": "stderr",
     "output_type": "stream",
     "text": [
      "                                                                        \r"
     ]
    },
    {
     "data": {
      "text/html": [
       "<video src=\"media/jupyter/Generate@2025-03-01@15-35-31.mp4\" controls autoplay loop style=\"max-width: 60%;\"  >\n",
       "      Your browser does not support the <code>video</code> element.\n",
       "    </video>"
      ],
      "text/plain": [
       "<IPython.core.display.Video object>"
      ]
     },
     "metadata": {},
     "output_type": "display_data"
    }
   ],
   "source": [
    "%%manim --hide-splash -qm -v WARNING Generate\n",
    "\n",
    "class Generate(Scene):\n",
    "  def construct(self):\n",
    "    random_walk(self, RESULTS['giovanni2'], 'era il', 16, seed = 38)\n"
   ]
  },
  {
   "cell_type": "code",
   "execution_count": null,
   "metadata": {},
   "outputs": [],
   "source": []
  }
 ],
 "metadata": {
  "kernelspec": {
   "display_name": ".venv",
   "language": "python",
   "name": "python3"
  },
  "language_info": {
   "codemirror_mode": {
    "name": "ipython",
    "version": 3
   },
   "file_extension": ".py",
   "mimetype": "text/x-python",
   "name": "python",
   "nbconvert_exporter": "python",
   "pygments_lexer": "ipython3",
   "version": "3.12.3"
  }
 },
 "nbformat": 4,
 "nbformat_minor": 2
}
