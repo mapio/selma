{
 "cells": [
  {
   "cell_type": "code",
   "execution_count": 1,
   "metadata": {},
   "outputs": [],
   "source": [
    "from manim import *\n",
    "from selma.geom import *\n",
    "from selma.graph import *\n",
    "from selma.datastructures import *\n",
    "import networkx as nx"
   ]
  },
  {
   "cell_type": "code",
   "execution_count": 2,
   "metadata": {},
   "outputs": [
    {
     "name": "stderr",
     "output_type": "stream",
     "text": [
      "                                                                                \r"
     ]
    },
    {
     "data": {
      "text/html": [
       "<video src=\"media/jupyter/Simple@2025-02-24@23-06-18.mp4\" controls autoplay loop style=\"max-width: 60%;\"  >\n",
       "      Your browser does not support the <code>video</code> element.\n",
       "    </video>"
      ],
      "text/plain": [
       "<IPython.core.display.Video object>"
      ]
     },
     "metadata": {},
     "output_type": "display_data"
    }
   ],
   "source": [
    "%%manim --renderer=cairo --hide-splash -qm -v WARNING Simple\n",
    "\n",
    "class Simple(Scene):\n",
    "  def construct(self):\n",
    "    Q = MQueue()\n",
    "    self.add(Q.rect)\n",
    "    self.play(Q.enqueue(Text(\"uno\")))\n",
    "    self.play(Q.enqueue(Text(\"due\")))\n",
    "    self.play(Q.dequeue())\n",
    "    self.play(Q.enqueue(Text(\"tre\")))\n"
   ]
  },
  {
   "cell_type": "code",
   "execution_count": null,
   "metadata": {},
   "outputs": [],
   "source": [
    "P = Text('P').move_to(3 * DOWN)\n",
    "Q = Text('Q').move_to(ORIGIN)\n",
    "R = Rectangle(width=3, height=1).move_to(P.get_center())\n",
    "S = Rectangle(width=2, height=3).move_to(Q.get_center())"
   ]
  },
  {
   "cell_type": "code",
   "execution_count": null,
   "metadata": {},
   "outputs": [],
   "source": [
    "radius = +6\n",
    "center, alpha, theta = compute_arc(P.get_center(), Q.get_center(), radius)\n",
    "center, alpha, theta"
   ]
  },
  {
   "cell_type": "code",
   "execution_count": null,
   "metadata": {},
   "outputs": [],
   "source": [
    "ps = circle_intersect(center, radius, S)\n",
    "m = []\n",
    "for t, p in ps:\n",
    "  m.append(Dot().move_to([p[0], p[1], 0]))"
   ]
  },
  {
   "cell_type": "code",
   "execution_count": null,
   "metadata": {},
   "outputs": [],
   "source": [
    "%%manim --renderer=opengl --hide-splash -pqm -v WARNING OpenGLRectangleExample \n",
    "\n",
    "class OpenGLRectangleExample(Scene):\n",
    "    def construct(self):\n",
    "        rect = Rectangle(width=4, height=2, color=GREEN)\n",
    "        self.play(FadeIn(rect))\n",
    "        self.play(rect.animate.move_to(RIGHT * 2))\n",
    "        self.wait()\n"
   ]
  },
  {
   "cell_type": "code",
   "execution_count": null,
   "metadata": {},
   "outputs": [],
   "source": [
    "%%manim --renderer=opengl --hide-splash -pql -v WARNING ZIndex \n",
    "\n",
    "class ZIndex(Scene):\n",
    "  def construct(self):\n",
    "    t = Text('Exam')\n",
    "    r = Rectangle(width=t.width + .2, height=t.height+.2, fill_color=BLACK, fill_opacity=1).move_to(t.get_center())\n",
    "    g0 = VGroup(r, t)\n",
    "    g1 = g0.copy().move_to(LEFT* 3)\n",
    "    g = VGroup(g0, g1)\n",
    "    a = Arc(radius=3, start_angle=PI/2, angle=2*PI)\n",
    "    self.add(a, g)\n",
    "    #self.wait()\n",
    "    "
   ]
  },
  {
   "cell_type": "code",
   "execution_count": null,
   "metadata": {},
   "outputs": [],
   "source": [
    "G = nx.erdos_renyi_graph(10, 0.5)\n",
    "G = nx.relabel_nodes(G, lambda x: str(x))\n",
    "G.nodes, G.edges"
   ]
  },
  {
   "cell_type": "code",
   "execution_count": null,
   "metadata": {},
   "outputs": [],
   "source": [
    "%%manim --renderer=cairo --hide-splash -pql -v WARNING ZIndex \n",
    "\n",
    "layout = gvlayout_factory(heightscale=.6)\n",
    "\n",
    "class ZIndex(Scene):\n",
    "  def construct(self):\n",
    "    G = nx.erdos_renyi_graph(10, 0.5)\n",
    "    G = nx.relabel_nodes(G, lambda x: str(x))\n",
    "    MG = MGraph(G, layout)\n",
    "    e = VGroup(list(MG._edges.values()))\n",
    "    n = VGroup(list(MG._nodes.values()))\n",
    "    g = Succession(Add(e), Add(n), Wait())\n",
    "    self.play(g)\n",
    "    self.wait(100)\n",
    "\n"
   ]
  }
 ],
 "metadata": {
  "kernelspec": {
   "display_name": ".venv",
   "language": "python",
   "name": "python3"
  },
  "language_info": {
   "codemirror_mode": {
    "name": "ipython",
    "version": 3
   },
   "file_extension": ".py",
   "mimetype": "text/x-python",
   "name": "python",
   "nbconvert_exporter": "python",
   "pygments_lexer": "ipython3",
   "version": "3.12.3"
  }
 },
 "nbformat": 4,
 "nbformat_minor": 2
}
