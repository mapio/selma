{
 "cells": [
  {
   "cell_type": "code",
   "execution_count": 112,
   "metadata": {},
   "outputs": [],
   "source": [
    "import random\n",
    "\n",
    "from manim import *\n",
    "\n",
    "from selma.geom import *\n",
    "from selma.graph import *\n",
    "from selma.mklm import *\n",
    "from selma.datastructures import *\n",
    "\n",
    "import networkx as nx"
   ]
  },
  {
   "cell_type": "code",
   "execution_count": 2,
   "metadata": {},
   "outputs": [
    {
     "data": {
      "text/plain": [
       "'paiimmsacaueaupeupoa'"
      ]
     },
     "execution_count": 2,
     "metadata": {},
     "output_type": "execute_result"
    }
   ],
   "source": [
    "from markov import *\n",
    "\n",
    "nw0 = next_weight0(\n",
    "  tokenize(clean_text(CORPORA['gadda']), by_char=True),\n",
    ")\n",
    "''.join(generate0(mk_rnd_next(nw0, 42), 20))"
   ]
  },
  {
   "cell_type": "code",
   "execution_count": 3,
   "metadata": {},
   "outputs": [],
   "source": [
    "from visits import *"
   ]
  },
  {
   "cell_type": "code",
   "execution_count": 170,
   "metadata": {},
   "outputs": [],
   "source": [
    "NG = nx.DiGraph(list(FFG.edges()) + [\n",
    "  ('Pazzi', 'Barbadori'),\n",
    "  ('Lamberteschi', 'Ginori')\n",
    "])"
   ]
  },
  {
   "cell_type": "code",
   "execution_count": 172,
   "metadata": {},
   "outputs": [
    {
     "name": "stderr",
     "output_type": "stream",
     "text": [
      "                                                                        \r"
     ]
    },
    {
     "data": {
      "text/html": [
       "<video src=\"media/jupyter/WB2@2025-03-01@22-02-27.mp4\" controls autoplay loop style=\"max-width: 60%;\"  >\n",
       "      Your browser does not support the <code>video</code> element.\n",
       "    </video>"
      ],
      "text/plain": [
       "<IPython.core.display.Video object>"
      ]
     },
     "metadata": {},
     "output_type": "display_data"
    }
   ],
   "source": [
    "%%manim --renderer=cairo --hide-splash -v WARNING -qm WB2\n",
    "\n",
    "class WB2(Scene):\n",
    "  def construct(self):\n",
    "    MG = MGraph(NG, gvlayout_factory('neato', heightscale=.6), node_scale=.5)\n",
    "    self.add(MG.mgraph)\n",
    "  \n",
    "    dot = Dot(color=PURE_GREEN)\n",
    "    nodes = list(MG.G.nodes())\n",
    "    visits =  {n: 0 for n in nodes}\n",
    "    s = random.choice(nodes)\n",
    "    dot.move_to(MG.mnode(s).get_center())\n",
    "    self.add(dot)\n",
    "    for _ in range(250):\n",
    "      visits[s] += 1\n",
    "      MG.mnode(s)[0].set_fill(color=interpolate_color(BLUE, RED, min(visits[s] / 10, 1)))\n",
    "      ts = list(MG.G.neighbors(s))\n",
    "      if random.random() < .2 or not ts:\n",
    "        t = random.choice(nodes)\n",
    "        self.remove(dot)\n",
    "        dot.move_to(MG.mnode(s).get_center())\n",
    "        self.wait(.1)\n",
    "        self.add(dot)\n",
    "      else:\n",
    "        t = random.choice(ts)\n",
    "        self.play(MG.movealong(dot, s, t), run_time=.1)\n",
    "      s = t\n"
   ]
  },
  {
   "cell_type": "code",
   "execution_count": null,
   "metadata": {},
   "outputs": [],
   "source": []
  }
 ],
 "metadata": {
  "kernelspec": {
   "display_name": ".venv",
   "language": "python",
   "name": "python3"
  },
  "language_info": {
   "codemirror_mode": {
    "name": "ipython",
    "version": 3
   },
   "file_extension": ".py",
   "mimetype": "text/x-python",
   "name": "python",
   "nbconvert_exporter": "python",
   "pygments_lexer": "ipython3",
   "version": "3.12.3"
  }
 },
 "nbformat": 4,
 "nbformat_minor": 2
}
