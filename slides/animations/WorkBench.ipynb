{
 "cells": [
  {
   "cell_type": "code",
   "execution_count": 1,
   "metadata": {},
   "outputs": [],
   "source": [
    "import random\n",
    "\n",
    "from manim import *\n",
    "\n",
    "from selma.geom import *\n",
    "from selma.graph import *\n",
    "from selma.mklm import *\n",
    "from selma.bags import *\n",
    "\n",
    "import networkx as nx"
   ]
  },
  {
   "cell_type": "code",
   "execution_count": 2,
   "metadata": {},
   "outputs": [
    {
     "data": {
      "text/plain": [
       "'smaaeecmomuimusiuspm'"
      ]
     },
     "execution_count": 2,
     "metadata": {},
     "output_type": "execute_result"
    }
   ],
   "source": [
    "from markov import *\n",
    "\n",
    "nw0 = next_weight0(\n",
    "  tokenize(clean_text(CORPORA['gadda']), by_char=True),\n",
    ")\n",
    "''.join(generate0(mk_rnd_next(nw0, 42), 20))"
   ]
  },
  {
   "cell_type": "code",
   "execution_count": null,
   "metadata": {},
   "outputs": [],
   "source": [
    "from random import Random\n",
    "rnd = Random(42)\n",
    "\n",
    "rnd.choice([1,2,3])"
   ]
  },
  {
   "cell_type": "code",
   "execution_count": 14,
   "metadata": {},
   "outputs": [],
   "source": [
    "from visits import FFG, RGG"
   ]
  },
  {
   "cell_type": "code",
   "execution_count": 4,
   "metadata": {},
   "outputs": [],
   "source": [
    "NG = nx.DiGraph(list(FFG.edges()) + [\n",
    "  ('Pazzi', 'Barbadori'),\n",
    "  ('Lamberteschi', 'Ginori')\n",
    "])"
   ]
  },
  {
   "cell_type": "code",
   "execution_count": 10,
   "metadata": {},
   "outputs": [],
   "source": [
    "def random_walk(scene, G, steps, wait, seed):\n",
    "  rng = Random(seed)\n",
    "  \n",
    "  MG = MGraph(G, gvlayout_factory('neato', heightscale=.6), node_scale=.5)\n",
    "  scene.add(MG.mgraph)\n",
    "\n",
    "  dot = Dot(color=PURE_GREEN)\n",
    "  nodes = list(MG.G.nodes())\n",
    "  visits =  {n: 0 for n in nodes}\n",
    "  s = rng.choice(nodes)\n",
    "  dot.move_to(MG.mnode(s).get_center())\n",
    "  scene.add(dot)\n",
    "  for _ in range(steps):\n",
    "    visits[s] += 1\n",
    "    MG.mnode(s)[0].set_fill(color=interpolate_color(BLUE, RED, min(visits[s] / 10, 1)))\n",
    "    ts = list(MG.G.neighbors(s))\n",
    "    if rng.random() < .2 or not ts:\n",
    "      t = rng.choice(nodes)\n",
    "      scene.remove(dot)\n",
    "      dot.move_to(MG.mnode(s).get_center())\n",
    "      scene.wait(wait)\n",
    "      scene.add(dot)\n",
    "    else:\n",
    "      t = rng.choice(ts)\n",
    "      scene.play(MG.movealong(dot, s, t), run_time=wait)\n",
    "    s = t\n"
   ]
  },
  {
   "cell_type": "code",
   "execution_count": null,
   "metadata": {},
   "outputs": [
    {
     "name": "stderr",
     "output_type": "stream",
     "text": [
      "                                                                                 \r"
     ]
    },
    {
     "data": {
      "text/html": [
       "<video src=\"media/jupyter/WB2@2025-03-02@09-05-13.mp4\" controls autoplay loop style=\"max-width: 60%;\"  >\n",
       "      Your browser does not support the <code>video</code> element.\n",
       "    </video>"
      ],
      "text/plain": [
       "<IPython.core.display.Video object>"
      ]
     },
     "metadata": {},
     "output_type": "display_data"
    }
   ],
   "source": [
    "%%manim --renderer=cairo --hide-splash -v WARNING -qm SlowWalk\n",
    "\n",
    "class SlowWalk(Scene):\n",
    "  def construct(self):\n",
    "    random_walk(self, NG, 10, wait=1, seed=40)"
   ]
  },
  {
   "cell_type": "code",
   "execution_count": 13,
   "metadata": {},
   "outputs": [
    {
     "name": "stderr",
     "output_type": "stream",
     "text": [
      "                                                                        \r"
     ]
    },
    {
     "data": {
      "text/html": [
       "<video src=\"media/jupyter/FastWalk@2025-03-02@09-07-48.mp4\" controls autoplay loop style=\"max-width: 60%;\"  >\n",
       "      Your browser does not support the <code>video</code> element.\n",
       "    </video>"
      ],
      "text/plain": [
       "<IPython.core.display.Video object>"
      ]
     },
     "metadata": {},
     "output_type": "display_data"
    }
   ],
   "source": [
    "%%manim --renderer=cairo --hide-splash -v WARNING -qm FastWalk\n",
    "\n",
    "class FastWalk(Scene):\n",
    "  def construct(self):\n",
    "    random_walk(self, NG, 300, wait=.2, seed=40)"
   ]
  },
  {
   "cell_type": "code",
   "execution_count": 17,
   "metadata": {},
   "outputs": [],
   "source": [
    "#%%manim --renderer=cairo --hide-splash -v WARNING -qm LargeWalk\n",
    "\n",
    "class LargeWalk(Scene):\n",
    "  def construct(self):\n",
    "    random_walk(self, RGG, 500, wait=.1, seed=40)"
   ]
  },
  {
   "cell_type": "code",
   "execution_count": null,
   "metadata": {},
   "outputs": [],
   "source": []
  }
 ],
 "metadata": {
  "kernelspec": {
   "display_name": ".venv",
   "language": "python",
   "name": "python3"
  },
  "language_info": {
   "codemirror_mode": {
    "name": "ipython",
    "version": 3
   },
   "file_extension": ".py",
   "mimetype": "text/x-python",
   "name": "python",
   "nbconvert_exporter": "python",
   "pygments_lexer": "ipython3",
   "version": "3.12.3"
  }
 },
 "nbformat": 4,
 "nbformat_minor": 2
}
