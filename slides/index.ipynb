{
 "cells": [
  {
   "cell_type": "markdown",
   "metadata": {
    "slideshow": {
     "slide_type": "slide"
    }
   },
   "source": [
    "<center>\n",
    "\n",
    "# Il curatore \n",
    "\n",
    "## e\n",
    "\n",
    "# Il sognatore\n",
    "\n",
    "&nbsp;\n",
    "\n",
    "&nbsp;\n",
    "\n",
    "&nbsp;\n",
    "\n",
    "### Massimo Santini\n",
    "\n",
    "</center>"
   ]
  },
  {
   "cell_type": "markdown",
   "metadata": {
    "slideshow": {
     "slide_type": "slide"
    }
   },
   "source": [
    "<center>\n",
    "\n",
    "# Cosa\n",
    "\n",
    "</center>\n",
    "\n",
    "<img alt=\"Il curatore e il sognatore\" src=\"./media/ces.webp\" style=\"width: 40%; margin: auto; display: block;\" />"
   ]
  },
  {
   "cell_type": "markdown",
   "metadata": {
    "slideshow": {
     "slide_type": "slide"
    }
   },
   "source": [
    "<center>\n",
    "\n",
    "# Come\n",
    "\n",
    "</center>\n",
    "\n",
    "<img alt=\"La mucca sferica\" src=\"./media/cow.png\" style=\"width: 40%; margin: auto; display: block;\" />"
   ]
  },
  {
   "cell_type": "markdown",
   "metadata": {
    "slideshow": {
     "slide_type": "slide"
    }
   },
   "source": [
    "<center>\n",
    "\n",
    "# Perché\n",
    "\n",
    "</center>\n",
    "\n",
    "<img alt=\"Markov\" src=\"./media/Markov.jpg\" style=\"width: 60%; margin: auto; display: block;\" />"
   ]
  },
  {
   "cell_type": "markdown",
   "metadata": {
    "slideshow": {
     "slide_type": "slide"
    }
   },
   "source": [
    "> Queste note sono generate a partire da un notebook [Jupyter](https://jupyter.org/)\n",
    "> disponibile su [GitHub](https://github.com/mapio/selma).\n",
    "> In particolare, molto del materiale qui visualizzato è prodotto da del codice in \n",
    "> [Python](https://www.python.org/) sviluppato appositamente e distribuito in modalità\n",
    "> *open source* e che quindi potete liberamente studiare, modificare e distribuire.\n",
    "> Se vi piace programmare, date una occhiata!\n",
    "\n",
    "<img alt=\"Link al repository\" src=\"./media/qr.png\" style=\"width: 40%; margin: auto; display: block;\" />"
   ]
  },
  {
   "cell_type": "markdown",
   "metadata": {
    "slideshow": {
     "slide_type": "slide"
    }
   },
   "source": [
    "<center>\n",
    "\n",
    "# Agenda\n",
    "\n",
    "</center>\n",
    "\n",
    "* Introduzione, \n",
    "* i [motori di ricerca](se.html),\n",
    "* i [modelli generativi del linguaggio](lm.html),\n",
    "* conclusioni."
   ]
  },
  {
   "cell_type": "markdown",
   "metadata": {
    "slideshow": {
     "slide_type": "slide"
    },
    "vscode": {
     "languageId": "plaintext"
    }
   },
   "source": [
    "<center>\n",
    "\n",
    "# Introduzione\n",
    "\n",
    "</center>"
   ]
  },
  {
   "cell_type": "markdown",
   "metadata": {
    "slideshow": {
     "slide_type": "slide"
    }
   },
   "source": [
    "## Applimatica\n",
    "\n",
    "<ul>\n",
    "  <li class=\"fragment\">Usare il computer,</li>\n",
    "  <li class=\"fragment\">Scrivere i programmi.</li>\n",
    "</ul>\n",
    "\n",
    "&nbsp;\n",
    "\n",
    "## Informatica\n",
    "\n",
    "<ul>\n",
    "  <li class=\"fragment\">Elaborazione,</li>\n",
    "  <li class=\"fragment\">Automatica,</li>\n",
    "  <li class=\"fragment\">Dell'informazione.</li>\n",
    "</ul>"
   ]
  },
  {
   "cell_type": "markdown",
   "metadata": {
    "slideshow": {
     "slide_type": "slide"
    }
   },
   "source": [
    "## Argomenti di studio\n",
    "\n",
    "<ul>\n",
    "  <li class=\"fragment\">Matematica (algebra, analisi, geometria), Logica matematica, <strong>Probabilità</strong> e statistica…</li>\n",
    "  <li class=\"fragment\"><strong>Algoritmi e strutture dati</strong>, Linguaggi formali e automi, Ricerca operativa, Ottimizzazione combinatoria, Teoria dell'informazione e della trasmissione…</li>\n",
    "  <li class=\"fragment\">Architettura degli elaboratori, Sistemi operativi, <strong>Reti di calcolatori</strong>, Sicurezza, Basi di dati…</li>\n",
    "  <li class=\"fragment\">Programmazione, Progettazione orientata agli oggetti, Ingegneria del software…</li>\n",
    "</ul>"
   ]
  }
 ],
 "metadata": {
  "kernelspec": {
   "display_name": "Python 3 (ipykernel)",
   "language": "python",
   "name": "python3"
  },
  "language_info": {
   "codemirror_mode": {
    "name": "ipython",
    "version": 3
   },
   "file_extension": ".py",
   "mimetype": "text/x-python",
   "name": "python",
   "nbconvert_exporter": "python",
   "pygments_lexer": "ipython3",
   "version": "3.12.3"
  }
 },
 "nbformat": 4,
 "nbformat_minor": 4
}
