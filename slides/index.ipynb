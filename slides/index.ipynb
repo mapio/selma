{
 "cells": [
  {
   "cell_type": "markdown",
   "metadata": {
    "slideshow": {
     "slide_type": "slide"
    }
   },
   "source": [
    "<center>\n",
    "\n",
    "# Il curatore \n",
    "\n",
    "## e\n",
    "\n",
    "# Il sognatore\n",
    "\n",
    "&nbsp;\n",
    "\n",
    "&nbsp;\n",
    "\n",
    "&nbsp;\n",
    "\n",
    "### Massimo Santini\n",
    "\n",
    "</center>"
   ]
  },
  {
   "cell_type": "markdown",
   "metadata": {
    "slideshow": {
     "slide_type": "slide"
    }
   },
   "source": [
    "<center>\n",
    "\n",
    "<a href=\"https://aladdin.unimi.it/\"><img alt=\"ALaDDIn\" src=\"./media/aladdin.png\" style=\"width: 40%; margin: auto; display: block;\" /></a>\n",
    "\n",
    "&nbsp;\n",
    "\n",
    "<a href=\"https://orientamento.di.unimi.it/\"><img alt=\"Dipartimento di informatica @ UniMI\" src=\"./media/di.png\" style=\"width: 80%; margin: auto; display: block;\" /></a>\n",
    "\n",
    "</center>\n"
   ]
  },
  {
   "cell_type": "markdown",
   "metadata": {
    "slideshow": {
     "slide_type": "slide"
    }
   },
   "source": [
    "<center>\n",
    "\n",
    "# Cosa\n",
    "\n",
    "</center>\n",
    "\n",
    "<img alt=\"Il curatore e il sognatore\" src=\"./media/ces.webp\" style=\"width: 40%; margin: auto; display: block;\" />"
   ]
  },
  {
   "cell_type": "markdown",
   "metadata": {
    "slideshow": {
     "slide_type": "slide"
    }
   },
   "source": [
    "<center>\n",
    "\n",
    "# Come\n",
    "\n",
    "</center>\n",
    "\n",
    "<img alt=\"La mucca sferica\" src=\"./media/cow.png\" style=\"width: 40%; margin: auto; display: block;\" />"
   ]
  },
  {
   "cell_type": "markdown",
   "metadata": {
    "slideshow": {
     "slide_type": "slide"
    }
   },
   "source": [
    "<center>\n",
    "\n",
    "# Perché\n",
    "\n",
    "</center>\n",
    "\n",
    "<img alt=\"Markov\" src=\"./media/markov.jpg\" style=\"width: 60%; margin: auto; display: block;\" />"
   ]
  },
  {
   "cell_type": "markdown",
   "metadata": {
    "slideshow": {
     "slide_type": "slide"
    }
   },
   "source": [
    "> Queste note sono generate a partire da un notebook [Jupyter](https://jupyter.org/)\n",
    "> disponibile su [GitHub](https://github.com/mapio/selma).\n",
    "> In particolare, molto del materiale qui visualizzato è prodotto da del codice in \n",
    "> [Python](https://www.python.org/) sviluppato appositamente e distribuito in modalità\n",
    "> *open source* e che quindi potete liberamente studiare, modificare e distribuire.\n",
    "> Se vi piace programmare, date una occhiata!\n",
    "\n",
    "<img alt=\"Link al repository\" src=\"./media/qr.png\" style=\"width: 40%; margin: auto; display: block;\" />"
   ]
  },
  {
   "cell_type": "markdown",
   "metadata": {
    "slideshow": {
     "slide_type": "slide"
    }
   },
   "source": [
    "<center>\n",
    "\n",
    "# Agenda\n",
    "\n",
    "&nbsp;\n",
    "\n",
    "<ul style=\"font-size: 1.5em;\">\n",
    "  <li class=\"fragment\">Introduzione,</li>\n",
    "  <li class=\"fragment\">i <a href=\"se.html\">motori di ricerca</a>,</li>\n",
    "  <li class=\"fragment\">i <a href=\"lm.html\">modelli generativi del linguaggio</a>,</li>\n",
    "  <li class=\"fragment\">conclusioni.</li>\n",
    "</ul> \n",
    "\n",
    "</center>"
   ]
  },
  {
   "cell_type": "markdown",
   "metadata": {
    "slideshow": {
     "slide_type": "slide"
    },
    "vscode": {
     "languageId": "plaintext"
    }
   },
   "source": [
    "<center>\n",
    "\n",
    "# Introduzione\n",
    "\n",
    "</center>\n",
    "\n",
    "<img alt=\"Markov\" src=\"./media/intro.webp\" style=\"width: 40%; margin: auto; display: block;\" />"
   ]
  },
  {
   "cell_type": "markdown",
   "metadata": {
    "slideshow": {
     "slide_type": "slide"
    }
   },
   "source": [
    "## Applimatica\n",
    "\n",
    "<ul style=\"font-size: 1.5em;\">\n",
    "  <li class=\"fragment\">Usare il computer,</li>\n",
    "  <li class=\"fragment\">Scrivere i programmi.</li>\n",
    "</ul>\n",
    "\n",
    "&nbsp;\n",
    "\n",
    "## Informatica\n",
    "\n",
    "<ul style=\"font-size: 1.5em;\">\n",
    "  <li class=\"fragment\">Elaborazione,</li>\n",
    "  <li class=\"fragment\">Automatica,</li>\n",
    "  <li class=\"fragment\">Dell'informazione.</li>\n",
    "</ul>"
   ]
  },
  {
   "cell_type": "markdown",
   "metadata": {
    "slideshow": {
     "slide_type": "slide"
    }
   },
   "source": [
    "## Di cosa si parla (oggi e nel corso di laurea)\n",
    "\n",
    "<ul style=\"font-size: 1.5em;\">\n",
    "  <li class=\"fragment\">Matematica (algebra, analisi, geometria), Logica matematica, <strong>Probabilità</strong> e statistica…</li>\n",
    "  <li class=\"fragment\"><strong>Algoritmi e strutture dati</strong>, Linguaggi formali e automi, Ricerca operativa, Ottimizzazione combinatoria, Teoria dell'informazione e della trasmissione…</li>\n",
    "  <li class=\"fragment\">Architettura degli elaboratori, Sistemi operativi, <strong>Reti di calcolatori</strong>, Sicurezza, Basi di dati…</li>\n",
    "  <li class=\"fragment\">Programmazione, Progettazione orientata agli oggetti, Ingegneria del software…</li>\n",
    "</ul>"
   ]
  },
  {
   "cell_type": "markdown",
   "metadata": {
    "slideshow": {
     "slide_type": "subslide"
    }
   },
   "source": [
    "# Sitografia\n",
    "\n",
    "<ol>\n",
    "<li><a href=\"https://www.nsf.gov/news/origins-google\">On the Origins of Google</a>, US National Science Foundation</li>\n",
    "<li><a href=\"https://pi.math.cornell.edu/~mec/Winter2009/RalucaRemus/Lecture3/lecture3.html\">PageRank Algorithm - The Mathematics of Google Search</a>, Cornell University</li>\n",
    "<li><a href=\"https://github.com/jsvine/markovify\">Markovify, a simple, extensible Markov chain generator</a>, GitHub</li> \n",
    "</ol>\n",
    "\n"
   ]
  }
 ],
 "metadata": {
  "kernelspec": {
   "display_name": "Python 3 (ipykernel)",
   "language": "python",
   "name": "python3"
  },
  "language_info": {
   "codemirror_mode": {
    "name": "ipython",
    "version": 3
   },
   "file_extension": ".py",
   "mimetype": "text/x-python",
   "name": "python",
   "nbconvert_exporter": "python",
   "pygments_lexer": "ipython3",
   "version": "3.12.3"
  }
 },
 "nbformat": 4,
 "nbformat_minor": 4
}
