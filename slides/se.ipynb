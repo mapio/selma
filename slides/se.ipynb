{
 "cells": [
  {
   "cell_type": "code",
   "execution_count": 1,
   "metadata": {
    "execution": {
     "iopub.execute_input": "2025-03-03T08:26:41.211047Z",
     "iopub.status.busy": "2025-03-03T08:26:41.210883Z",
     "iopub.status.idle": "2025-03-03T08:26:41.680963Z",
     "shell.execute_reply": "2025-03-03T08:26:41.680187Z"
    },
    "slideshow": {
     "slide_type": "skip"
    }
   },
   "outputs": [],
   "source": [
    "from lib import anim, md, img"
   ]
  },
  {
   "cell_type": "markdown",
   "metadata": {
    "slideshow": {
     "slide_type": "slide"
    }
   },
   "source": [
    "<center>\n",
    "\n",
    "# I motori di ricerca\n",
    "\n",
    "</center>\n",
    "\n",
    "<img alt=\"I motori di ricerca\" src=\"./media/se.webp\" style=\"width: 40%; margin: auto; display: block;\" />"
   ]
  },
  {
   "cell_type": "markdown",
   "metadata": {
    "slideshow": {
     "slide_type": "slide"
    }
   },
   "source": [
    "## Raccogliere\n",
    "\n",
    "<ul>\n",
    "  <li class=\"fragment\">Il <strong>grafo</strong> del <em>web</em> </li>\n",
    "  <li class=\"fragment\">Gli <strong>algoritmi di vista</strong> (basati su <strong>code</strong> e e <strong>pile</strong>).</li>\n",
    "</ul>\n",
    "\n",
    "&nbsp;\n",
    "\n",
    "\n",
    "## Analizzare\n",
    "\n",
    "<ul>\n",
    "  <li class=\"fragment\">Costruire un <strong>indice inverso</strong>.</li>\n",
    "  <li class=\"fragment\">Cercare nell'indice inverso.</li>\n",
    "</ul>\n",
    "\n",
    "&nbsp;\n",
    "\n",
    "## Ordinare\n",
    "\n",
    "<ul>\n",
    "  <li class=\"fragment\">Misure <em>endogene</em> di qualità, <strong>SEO</strong> e <em>spam</em>.</li>\n",
    "  <li class=\"fragment\">Misure <em>esogene</em> di qualità: <strong>PageRank</strong> e le <em>camminate aleatorie</em>.</li>\n",
    "</ul>\n",
    "\n",
    "&nbsp;\n"
   ]
  },
  {
   "cell_type": "markdown",
   "metadata": {
    "slideshow": {
     "slide_type": "slide"
    }
   },
   "source": [
    "<center>\n",
    "\n",
    "# Raccogliere\n",
    "\n",
    "</center>"
   ]
  },
  {
   "cell_type": "code",
   "execution_count": 2,
   "metadata": {
    "execution": {
     "iopub.execute_input": "2025-03-03T08:26:41.682843Z",
     "iopub.status.busy": "2025-03-03T08:26:41.682664Z",
     "iopub.status.idle": "2025-03-03T08:26:41.688202Z",
     "shell.execute_reply": "2025-03-03T08:26:41.687713Z"
    },
    "slideshow": {
     "slide_type": "slide"
    },
    "tags": [
     "hide"
    ]
   },
   "outputs": [
    {
     "data": {
      "text/markdown": [
       "## I grafi"
      ],
      "text/plain": [
       "<IPython.core.display.Markdown object>"
      ]
     },
     "metadata": {},
     "output_type": "display_data"
    },
    {
     "data": {
      "text/html": [
       "<div style=\"display: flex; justify-content: center; align-items: center; margin: 0; padding: 0; background-color: #F0F1EB;\">\n",
       "<img src=\"./media/gen/FlorentineFamilyGraph_ManimCE_v0.19.0.png\" style=\"width: 800px; height: 450px;\" alt=\"Image not found\">\n",
       "</div>"
      ],
      "text/plain": [
       "<IPython.core.display.HTML object>"
      ]
     },
     "metadata": {},
     "output_type": "display_data"
    }
   ],
   "source": [
    "img('FlorentineFamilyGraph', 'I grafi')"
   ]
  },
  {
   "cell_type": "code",
   "execution_count": 3,
   "metadata": {
    "execution": {
     "iopub.execute_input": "2025-03-03T08:26:41.711026Z",
     "iopub.status.busy": "2025-03-03T08:26:41.710872Z",
     "iopub.status.idle": "2025-03-03T08:26:41.714908Z",
     "shell.execute_reply": "2025-03-03T08:26:41.714539Z"
    },
    "slideshow": {
     "slide_type": "slide"
    },
    "tags": [
     "hide"
    ]
   },
   "outputs": [
    {
     "data": {
      "text/markdown": [
       "## Visitare un grafo"
      ],
      "text/plain": [
       "<IPython.core.display.Markdown object>"
      ]
     },
     "metadata": {},
     "output_type": "display_data"
    },
    {
     "data": {
      "text/html": [
       "<div style=\"display: flex; justify-content: center; align-items: center; margin: 0; padding: 0; background-color: #F0F1EB;\">\n",
       "<img src=\"./media/gen/FlorentineFamilyMarkedGraph_ManimCE_v0.19.0.png\" style=\"width: 800px; height: 450px;\" alt=\"Image not found\">\n",
       "</div>"
      ],
      "text/plain": [
       "<IPython.core.display.HTML object>"
      ]
     },
     "metadata": {},
     "output_type": "display_data"
    }
   ],
   "source": [
    "img('FlorentineFamilyMarkedGraph', 'Visitare un grafo')"
   ]
  },
  {
   "cell_type": "code",
   "execution_count": 4,
   "metadata": {
    "execution": {
     "iopub.execute_input": "2025-03-03T08:26:41.716066Z",
     "iopub.status.busy": "2025-03-03T08:26:41.715984Z",
     "iopub.status.idle": "2025-03-03T08:26:41.718959Z",
     "shell.execute_reply": "2025-03-03T08:26:41.718666Z"
    },
    "slideshow": {
     "slide_type": "slide"
    },
    "tags": [
     "hide"
    ]
   },
   "outputs": [
    {
     "data": {
      "text/markdown": [
       "## Usando una coda"
      ],
      "text/plain": [
       "<IPython.core.display.Markdown object>"
      ]
     },
     "metadata": {},
     "output_type": "display_data"
    },
    {
     "data": {
      "text/html": [
       "<div style=\"display: flex; justify-content: center; align-items: center; margin: 0; padding: 0; background-color: #F0F1EB;\">\n",
       "<video style=\"width: 800px; height: 450px;\" controls <source src=\"./media/gen/FlorentineFamilyBFS.mp4\" type=\"video/mp4\">IL tuo browser non supporta i video.</video>\n",
       "</div>"
      ],
      "text/plain": [
       "<IPython.core.display.HTML object>"
      ]
     },
     "metadata": {},
     "output_type": "display_data"
    }
   ],
   "source": [
    "anim('FlorentineFamilyBFS', 'Usando una coda')"
   ]
  },
  {
   "cell_type": "code",
   "execution_count": 5,
   "metadata": {
    "execution": {
     "iopub.execute_input": "2025-03-03T08:26:41.720138Z",
     "iopub.status.busy": "2025-03-03T08:26:41.720060Z",
     "iopub.status.idle": "2025-03-03T08:26:41.723260Z",
     "shell.execute_reply": "2025-03-03T08:26:41.722924Z"
    },
    "slideshow": {
     "slide_type": "slide"
    },
    "tags": [
     "hide"
    ]
   },
   "outputs": [
    {
     "data": {
      "text/markdown": [
       "## Usando una pila"
      ],
      "text/plain": [
       "<IPython.core.display.Markdown object>"
      ]
     },
     "metadata": {},
     "output_type": "display_data"
    },
    {
     "data": {
      "text/html": [
       "<div style=\"display: flex; justify-content: center; align-items: center; margin: 0; padding: 0; background-color: #F0F1EB;\">\n",
       "<video style=\"width: 800px; height: 450px;\" controls <source src=\"./media/gen/FlorentineFamilyDFS.mp4\" type=\"video/mp4\">IL tuo browser non supporta i video.</video>\n",
       "</div>"
      ],
      "text/plain": [
       "<IPython.core.display.HTML object>"
      ]
     },
     "metadata": {},
     "output_type": "display_data"
    }
   ],
   "source": [
    "anim('FlorentineFamilyDFS', 'Usando una pila')"
   ]
  },
  {
   "cell_type": "code",
   "execution_count": 6,
   "metadata": {
    "execution": {
     "iopub.execute_input": "2025-03-03T08:26:41.724887Z",
     "iopub.status.busy": "2025-03-03T08:26:41.724630Z",
     "iopub.status.idle": "2025-03-03T08:26:41.728629Z",
     "shell.execute_reply": "2025-03-03T08:26:41.728315Z"
    },
    "slideshow": {
     "slide_type": "slide"
    },
    "tags": [
     "hide"
    ]
   },
   "outputs": [
    {
     "data": {
      "text/markdown": [
       "## In ampiezza"
      ],
      "text/plain": [
       "<IPython.core.display.Markdown object>"
      ]
     },
     "metadata": {},
     "output_type": "display_data"
    },
    {
     "data": {
      "text/html": [
       "<div style=\"display: flex; justify-content: center; align-items: center; margin: 0; padding: 0; background-color: #F0F1EB;\">\n",
       "<video style=\"width: 800px; height: 450px;\" controls <source src=\"./media/gen/RGGBFS.mp4\" type=\"video/mp4\">IL tuo browser non supporta i video.</video>\n",
       "</div>"
      ],
      "text/plain": [
       "<IPython.core.display.HTML object>"
      ]
     },
     "metadata": {},
     "output_type": "display_data"
    }
   ],
   "source": [
    "anim('RGGBFS', 'In ampiezza')"
   ]
  },
  {
   "cell_type": "code",
   "execution_count": 7,
   "metadata": {
    "execution": {
     "iopub.execute_input": "2025-03-03T08:26:41.729992Z",
     "iopub.status.busy": "2025-03-03T08:26:41.729844Z",
     "iopub.status.idle": "2025-03-03T08:26:41.733656Z",
     "shell.execute_reply": "2025-03-03T08:26:41.733362Z"
    },
    "slideshow": {
     "slide_type": "slide"
    },
    "tags": [
     "hide"
    ]
   },
   "outputs": [
    {
     "data": {
      "text/markdown": [
       "## In profondità"
      ],
      "text/plain": [
       "<IPython.core.display.Markdown object>"
      ]
     },
     "metadata": {},
     "output_type": "display_data"
    },
    {
     "data": {
      "text/html": [
       "<div style=\"display: flex; justify-content: center; align-items: center; margin: 0; padding: 0; background-color: #F0F1EB;\">\n",
       "<video style=\"width: 800px; height: 450px;\" controls <source src=\"./media/gen/RGGDFS.mp4\" type=\"video/mp4\">IL tuo browser non supporta i video.</video>\n",
       "</div>"
      ],
      "text/plain": [
       "<IPython.core.display.HTML object>"
      ]
     },
     "metadata": {},
     "output_type": "display_data"
    }
   ],
   "source": [
    "anim('RGGDFS', 'In profondità')"
   ]
  },
  {
   "cell_type": "markdown",
   "metadata": {
    "slideshow": {
     "slide_type": "slide"
    }
   },
   "source": [
    "<center>\n",
    "\n",
    "# Analizzare\n",
    "\n",
    "</center>"
   ]
  },
  {
   "cell_type": "markdown",
   "metadata": {
    "slideshow": {
     "slide_type": "slide"
    }
   },
   "source": [
    "<center>\n",
    "\n",
    "# Ordinare\n",
    "\n",
    "</center>\n",
    "\n",
    "<img alt=\"Larry Page e Sergey Brin\" src=\"./media/lpsb.jpg\" style=\"width: 60%; margin: auto; display: block;\" />\n"
   ]
  },
  {
   "cell_type": "code",
   "execution_count": 8,
   "metadata": {
    "execution": {
     "iopub.execute_input": "2025-03-03T08:26:41.735117Z",
     "iopub.status.busy": "2025-03-03T08:26:41.734873Z",
     "iopub.status.idle": "2025-03-03T08:26:41.739552Z",
     "shell.execute_reply": "2025-03-03T08:26:41.739222Z"
    },
    "slideshow": {
     "slide_type": "slide"
    },
    "tags": [
     "hide"
    ]
   },
   "outputs": [
    {
     "data": {
      "text/markdown": [
       "## Le camminate aleatorie"
      ],
      "text/plain": [
       "<IPython.core.display.Markdown object>"
      ]
     },
     "metadata": {},
     "output_type": "display_data"
    },
    {
     "data": {
      "text/html": [
       "<div style=\"display: flex; justify-content: center; align-items: center; margin: 0; padding: 0; background-color: #F0F1EB;\">\n",
       "<video style=\"width: 800px; height: 450px;\" controls <source src=\"./media/gen/SlowWalk.mp4\" type=\"video/mp4\">IL tuo browser non supporta i video.</video>\n",
       "</div>"
      ],
      "text/plain": [
       "<IPython.core.display.HTML object>"
      ]
     },
     "metadata": {},
     "output_type": "display_data"
    }
   ],
   "source": [
    "anim('SlowWalk', 'Le camminate aleatorie')"
   ]
  },
  {
   "cell_type": "code",
   "execution_count": 9,
   "metadata": {
    "execution": {
     "iopub.execute_input": "2025-03-03T08:26:41.741128Z",
     "iopub.status.busy": "2025-03-03T08:26:41.740945Z",
     "iopub.status.idle": "2025-03-03T08:26:41.743904Z",
     "shell.execute_reply": "2025-03-03T08:26:41.743658Z"
    },
    "slideshow": {
     "slide_type": "slide"
    },
    "tags": [
     "hide"
    ]
   },
   "outputs": [
    {
     "data": {
      "text/markdown": [
       "## Sempre più famoso!"
      ],
      "text/plain": [
       "<IPython.core.display.Markdown object>"
      ]
     },
     "metadata": {},
     "output_type": "display_data"
    },
    {
     "data": {
      "text/html": [
       "<div style=\"display: flex; justify-content: center; align-items: center; margin: 0; padding: 0; background-color: #F0F1EB;\">\n",
       "<video style=\"width: 800px; height: 450px;\" controls <source src=\"./media/gen/FastWalk.mp4\" type=\"video/mp4\">IL tuo browser non supporta i video.</video>\n",
       "</div>"
      ],
      "text/plain": [
       "<IPython.core.display.HTML object>"
      ]
     },
     "metadata": {},
     "output_type": "display_data"
    }
   ],
   "source": [
    "anim('FastWalk', 'Sempre più famoso!')"
   ]
  },
  {
   "cell_type": "code",
   "execution_count": 10,
   "metadata": {
    "execution": {
     "iopub.execute_input": "2025-03-03T08:26:41.745143Z",
     "iopub.status.busy": "2025-03-03T08:26:41.745043Z",
     "iopub.status.idle": "2025-03-03T08:26:41.747753Z",
     "shell.execute_reply": "2025-03-03T08:26:41.747519Z"
    },
    "slideshow": {
     "slide_type": "slide"
    },
    "tags": [
     "hide"
    ]
   },
   "outputs": [
    {
     "data": {
      "text/markdown": [
       "## Un grafo più grande"
      ],
      "text/plain": [
       "<IPython.core.display.Markdown object>"
      ]
     },
     "metadata": {},
     "output_type": "display_data"
    },
    {
     "data": {
      "text/html": [
       "<div style=\"display: flex; justify-content: center; align-items: center; margin: 0; padding: 0; background-color: #F0F1EB;\">\n",
       "<video style=\"width: 800px; height: 450px;\" controls <source src=\"./media/gen/LargeWalk.mp4\" type=\"video/mp4\">IL tuo browser non supporta i video.</video>\n",
       "</div>"
      ],
      "text/plain": [
       "<IPython.core.display.HTML object>"
      ]
     },
     "metadata": {},
     "output_type": "display_data"
    }
   ],
   "source": [
    "anim('LargeWalk', 'Un grafo più grande')"
   ]
  },
  {
   "cell_type": "code",
   "execution_count": 11,
   "metadata": {
    "execution": {
     "iopub.execute_input": "2025-03-03T08:26:41.749074Z",
     "iopub.status.busy": "2025-03-03T08:26:41.748983Z",
     "iopub.status.idle": "2025-03-03T08:26:41.751424Z",
     "shell.execute_reply": "2025-03-03T08:26:41.751173Z"
    },
    "slideshow": {
     "slide_type": "slide"
    },
    "tags": [
     "hide"
    ]
   },
   "outputs": [
    {
     "data": {
      "text/markdown": [
       "## Crescita del web"
      ],
      "text/plain": [
       "<IPython.core.display.Markdown object>"
      ]
     },
     "metadata": {},
     "output_type": "display_data"
    },
    {
     "data": {
      "text/html": [
       "<div style=\"display: flex; justify-content: center; align-items: center; margin: 0; padding: 0; background-color: #F0F1EB;\">\n",
       "<img src=\"./media/size.png\" style=\"width: 800px; height: 450px;\" alt=\"Image not found\">\n",
       "</div>"
      ],
      "text/plain": [
       "<IPython.core.display.HTML object>"
      ]
     },
     "metadata": {},
     "output_type": "display_data"
    }
   ],
   "source": [
    "img('size', 'Crescita del web')"
   ]
  },
  {
   "cell_type": "markdown",
   "metadata": {
    "slideshow": {
     "slide_type": "slide"
    }
   },
   "source": [
    "<center style=\"font-size: 1.5em;\">\n",
    "  <a href=\"lm.html\">Modelli generativi del linguaggio</a>\n",
    "</center>"
   ]
  }
 ],
 "metadata": {
  "kernelspec": {
   "display_name": ".venv",
   "language": "python",
   "name": "python3"
  },
  "language_info": {
   "codemirror_mode": {
    "name": "ipython",
    "version": 3
   },
   "file_extension": ".py",
   "mimetype": "text/x-python",
   "name": "python",
   "nbconvert_exporter": "python",
   "pygments_lexer": "ipython3",
   "version": "3.12.3"
  }
 },
 "nbformat": 4,
 "nbformat_minor": 2
}
