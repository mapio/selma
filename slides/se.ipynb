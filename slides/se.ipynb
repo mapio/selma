{
 "cells": [
  {
   "cell_type": "code",
   "execution_count": 2,
   "metadata": {
    "execution": {
     "iopub.execute_input": "2025-03-02T19:24:54.381051Z",
     "iopub.status.busy": "2025-03-02T19:24:54.380955Z",
     "iopub.status.idle": "2025-03-02T19:24:54.816219Z",
     "shell.execute_reply": "2025-03-02T19:24:54.815698Z"
    },
    "slideshow": {
     "slide_type": "skip"
    }
   },
   "outputs": [],
   "source": [
    "from lib import anim, md, img"
   ]
  },
  {
   "cell_type": "markdown",
   "metadata": {
    "slideshow": {
     "slide_type": "slide"
    }
   },
   "source": [
    "<center>\n",
    "\n",
    "# I motori di ricerca\n",
    "\n",
    "</center>"
   ]
  },
  {
   "cell_type": "markdown",
   "metadata": {
    "slideshow": {
     "slide_type": "slide"
    }
   },
   "source": [
    "## Raccogliere\n",
    "\n",
    "<ul>\n",
    "  <li class=\"fragment\">Il <strong>grafo</strong> del <em>web</em> </li>\n",
    "  <li class=\"fragment\">Gli <strong>algoritmi di vista</strong> (basati su <strong>code</strong> e e <strong>pile</strong>).</li>\n",
    "</ul>\n",
    "\n",
    "&nbsp;\n",
    "\n",
    "\n",
    "## Analizzare\n",
    "\n",
    "<ul>\n",
    "  <li class=\"fragment\">Costruire un <strong>indice inverso</strong>.</li>\n",
    "  <li class=\"fragment\">Cercare nell'indice inverso.</li>\n",
    "</ul>\n",
    "\n",
    "&nbsp;\n",
    "\n",
    "## Ordinare\n",
    "\n",
    "<ul>\n",
    "  <li class=\"fragment\">Misure <em>endogene</em> di qualità, <strong>SEO</strong> e <em>spam</em>.</li>\n",
    "  <li class=\"fragment\">Misure <em>esogene</em> di qualità: <strong>PageRank</strong> e le <em>camminate casuali</em>.</li>\n",
    "</ul>\n",
    "\n",
    "&nbsp;\n"
   ]
  },
  {
   "cell_type": "code",
   "execution_count": 4,
   "metadata": {
    "execution": {
     "iopub.execute_input": "2025-03-02T19:24:54.818255Z",
     "iopub.status.busy": "2025-03-02T19:24:54.818055Z",
     "iopub.status.idle": "2025-03-02T19:24:54.822415Z",
     "shell.execute_reply": "2025-03-02T19:24:54.822149Z"
    },
    "slideshow": {
     "slide_type": "slide"
    },
    "tags": [
     "hide"
    ]
   },
   "outputs": [
    {
     "data": {
      "text/markdown": [
       "## I grafi"
      ],
      "text/plain": [
       "<IPython.core.display.Markdown object>"
      ]
     },
     "metadata": {},
     "output_type": "display_data"
    },
    {
     "data": {
      "text/html": [
       "<div style=\"display: flex; justify-content: center; align-items: center; margin: 0; padding: 0; background-color: #F0F1EB;\">\n",
       "<img src=\"./media/gen/FlorentineFamilyGraph_ManimCE_v0.19.0.png\" style=\"width: 800px; height: 450px;\" alt=\"Image not found\">\n",
       "</div>"
      ],
      "text/plain": [
       "<IPython.core.display.HTML object>"
      ]
     },
     "metadata": {},
     "output_type": "display_data"
    }
   ],
   "source": [
    "img('FlorentineFamilyGraph', 'I grafi')"
   ]
  },
  {
   "cell_type": "code",
   "execution_count": 5,
   "metadata": {
    "execution": {
     "iopub.execute_input": "2025-03-02T19:24:54.842149Z",
     "iopub.status.busy": "2025-03-02T19:24:54.842005Z",
     "iopub.status.idle": "2025-03-02T19:24:54.845409Z",
     "shell.execute_reply": "2025-03-02T19:24:54.845071Z"
    },
    "slideshow": {
     "slide_type": "slide"
    },
    "tags": [
     "hide"
    ]
   },
   "outputs": [
    {
     "data": {
      "text/markdown": [
       "## Visitare un grafo"
      ],
      "text/plain": [
       "<IPython.core.display.Markdown object>"
      ]
     },
     "metadata": {},
     "output_type": "display_data"
    },
    {
     "data": {
      "text/html": [
       "<div style=\"display: flex; justify-content: center; align-items: center; margin: 0; padding: 0; background-color: #F0F1EB;\">\n",
       "<img src=\"./media/gen/FlorentineFamilyMarkedGraph_ManimCE_v0.19.0.png\" style=\"width: 800px; height: 450px;\" alt=\"Image not found\">\n",
       "</div>"
      ],
      "text/plain": [
       "<IPython.core.display.HTML object>"
      ]
     },
     "metadata": {},
     "output_type": "display_data"
    }
   ],
   "source": [
    "img('FlorentineFamilyMarkedGraph', 'Visitare un grafo')"
   ]
  },
  {
   "cell_type": "code",
   "execution_count": 6,
   "metadata": {
    "slideshow": {
     "slide_type": "slide"
    },
    "tags": [
     "hide"
    ]
   },
   "outputs": [
    {
     "data": {
      "text/markdown": [
       "## Usando una coda"
      ],
      "text/plain": [
       "<IPython.core.display.Markdown object>"
      ]
     },
     "metadata": {},
     "output_type": "display_data"
    },
    {
     "data": {
      "text/html": [
       "<div style=\"display: flex; justify-content: center; align-items: center; margin: 0; padding: 0; background-color: #F0F1EB;\">\n",
       "<video style=\"width: 800px; height: 450px;\" controls <source src=\"./media/gen/FlorentineFamilyBFS.mp4\" type=\"video/mp4\">IL tuo browser non supporta i video.</video>\n",
       "</div>"
      ],
      "text/plain": [
       "<IPython.core.display.HTML object>"
      ]
     },
     "metadata": {},
     "output_type": "display_data"
    }
   ],
   "source": [
    "anim('FlorentineFamilyBFS', 'Usando una coda')"
   ]
  },
  {
   "cell_type": "code",
   "execution_count": 7,
   "metadata": {
    "tags": [
     "hide"
    ]
   },
   "outputs": [
    {
     "data": {
      "text/markdown": [
       "## Usando una pila"
      ],
      "text/plain": [
       "<IPython.core.display.Markdown object>"
      ]
     },
     "metadata": {},
     "output_type": "display_data"
    },
    {
     "data": {
      "text/html": [
       "<div style=\"display: flex; justify-content: center; align-items: center; margin: 0; padding: 0; background-color: #F0F1EB;\">\n",
       "<video style=\"width: 800px; height: 450px;\" controls <source src=\"./media/gen/FlorentineFamilyDFS.mp4\" type=\"video/mp4\">IL tuo browser non supporta i video.</video>\n",
       "</div>"
      ],
      "text/plain": [
       "<IPython.core.display.HTML object>"
      ]
     },
     "metadata": {},
     "output_type": "display_data"
    }
   ],
   "source": [
    "anim('FlorentineFamilyDFS', 'Usando una pila')"
   ]
  },
  {
   "cell_type": "code",
   "execution_count": 8,
   "metadata": {
    "slideshow": {
     "slide_type": "slide"
    },
    "tags": [
     "hide"
    ]
   },
   "outputs": [
    {
     "data": {
      "text/markdown": [
       "## In ampiezza"
      ],
      "text/plain": [
       "<IPython.core.display.Markdown object>"
      ]
     },
     "metadata": {},
     "output_type": "display_data"
    },
    {
     "data": {
      "text/html": [
       "<div style=\"display: flex; justify-content: center; align-items: center; margin: 0; padding: 0; background-color: #F0F1EB;\">\n",
       "<video style=\"width: 800px; height: 450px;\" controls <source src=\"./media/gen/RGGBFS.mp4\" type=\"video/mp4\">IL tuo browser non supporta i video.</video>\n",
       "</div>"
      ],
      "text/plain": [
       "<IPython.core.display.HTML object>"
      ]
     },
     "metadata": {},
     "output_type": "display_data"
    }
   ],
   "source": [
    "anim('RGGBFS', 'In ampiezza')"
   ]
  },
  {
   "cell_type": "code",
   "execution_count": null,
   "metadata": {
    "slideshow": {
     "slide_type": "slide"
    },
    "tags": [
     "hide"
    ]
   },
   "outputs": [
    {
     "data": {
      "text/markdown": [
       "## Usando una pila"
      ],
      "text/plain": [
       "<IPython.core.display.Markdown object>"
      ]
     },
     "metadata": {},
     "output_type": "display_data"
    },
    {
     "data": {
      "text/html": [
       "<div style=\"display: flex; justify-content: center; align-items: center; margin: 0; padding: 0; background-color: #F0F1EB;\">\n",
       "<video style=\"width: 800px; height: 450px;\" controls <source src=\"./media/gen/FlorentineFamilyDFS.mp4\" type=\"video/mp4\">IL tuo browser non supporta i video.</video>\n",
       "</div>"
      ],
      "text/plain": [
       "<IPython.core.display.HTML object>"
      ]
     },
     "metadata": {},
     "output_type": "display_data"
    }
   ],
   "source": [
    "anim('RGGDFS', 'In profondità')"
   ]
  }
 ],
 "metadata": {
  "kernelspec": {
   "display_name": ".venv",
   "language": "python",
   "name": "python3"
  },
  "language_info": {
   "codemirror_mode": {
    "name": "ipython",
    "version": 3
   },
   "file_extension": ".py",
   "mimetype": "text/x-python",
   "name": "python",
   "nbconvert_exporter": "python",
   "pygments_lexer": "ipython3",
   "version": "3.12.3"
  }
 },
 "nbformat": 4,
 "nbformat_minor": 2
}
