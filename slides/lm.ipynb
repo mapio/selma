{
 "cells": [
  {
   "cell_type": "code",
   "execution_count": 1,
   "metadata": {
    "execution": {
     "iopub.execute_input": "2025-03-03T07:45:44.556055Z",
     "iopub.status.busy": "2025-03-03T07:45:44.555960Z",
     "iopub.status.idle": "2025-03-03T07:45:44.998756Z",
     "shell.execute_reply": "2025-03-03T07:45:44.998249Z"
    },
    "slideshow": {
     "slide_type": "skip"
    }
   },
   "outputs": [],
   "source": [
    "from lib import anim, img, md"
   ]
  },
  {
   "cell_type": "markdown",
   "metadata": {
    "slideshow": {
     "slide_type": "slide"
    }
   },
   "source": [
    "<center>\n",
    "\n",
    "# I modelli generativi del linguaggio\n",
    "\n",
    "</center>\n",
    "\n",
    "<img alt=\"I modelli generativi del testo\" src=\"./media/lm.webp\" style=\"width: 40%; margin: auto; display: block;\" />"
   ]
  },
  {
   "cell_type": "markdown",
   "metadata": {
    "slideshow": {
     "slide_type": "slide"
    }
   },
   "source": [
    "<center><em style='font-size: 48pt;'>\n",
    "Come poco pepe a coppia<br/>\n",
    "cuoce e scoppia\n",
    "</em></center>"
   ]
  },
  {
   "cell_type": "code",
   "execution_count": 2,
   "metadata": {
    "execution": {
     "iopub.execute_input": "2025-03-03T07:45:45.000243Z",
     "iopub.status.busy": "2025-03-03T07:45:45.000089Z",
     "iopub.status.idle": "2025-03-03T07:45:45.004318Z",
     "shell.execute_reply": "2025-03-03T07:45:45.004039Z"
    },
    "slideshow": {
     "slide_type": "slide"
    },
    "tags": [
     "hide"
    ]
   },
   "outputs": [
    {
     "data": {
      "text/markdown": [
       "## Tirando a caso"
      ],
      "text/plain": [
       "<IPython.core.display.Markdown object>"
      ]
     },
     "metadata": {},
     "output_type": "display_data"
    },
    {
     "data": {
      "text/html": [
       "<div style=\"display: flex; justify-content: center; align-items: center; margin: 0; padding: 0; background-color: #F0F1EB;\">\n",
       "<video style=\"width: 800px; height: 450px;\" controls <source src=\"./media/gen/SimplerGenerate.mp4\" type=\"video/mp4\">IL tuo browser non supporta i video.</video>\n",
       "</div>"
      ],
      "text/plain": [
       "<IPython.core.display.HTML object>"
      ]
     },
     "metadata": {},
     "output_type": "display_data"
    }
   ],
   "source": [
    "anim('SimplerGenerate', 'Tirando a caso')"
   ]
  },
  {
   "cell_type": "code",
   "execution_count": 3,
   "metadata": {
    "execution": {
     "iopub.execute_input": "2025-03-03T07:45:45.024994Z",
     "iopub.status.busy": "2025-03-03T07:45:45.024830Z",
     "iopub.status.idle": "2025-03-03T07:45:45.028114Z",
     "shell.execute_reply": "2025-03-03T07:45:45.027840Z"
    },
    "slideshow": {
     "slide_type": "slide"
    },
    "tags": [
     "hide"
    ]
   },
   "outputs": [
    {
     "data": {
      "text/markdown": [
       "## Usando la statistica"
      ],
      "text/plain": [
       "<IPython.core.display.Markdown object>"
      ]
     },
     "metadata": {},
     "output_type": "display_data"
    },
    {
     "data": {
      "text/html": [
       "<div style=\"display: flex; justify-content: center; align-items: center; margin: 0; padding: 0; background-color: #F0F1EB;\">\n",
       "<video style=\"width: 800px; height: 450px;\" controls <source src=\"./media/gen/SimpleGenerate.mp4\" type=\"video/mp4\">IL tuo browser non supporta i video.</video>\n",
       "</div>"
      ],
      "text/plain": [
       "<IPython.core.display.HTML object>"
      ]
     },
     "metadata": {},
     "output_type": "display_data"
    }
   ],
   "source": [
    "anim('SimpleGenerate', 'Usando la statistica')"
   ]
  },
  {
   "cell_type": "markdown",
   "metadata": {
    "slideshow": {
     "slide_type": "slide"
    }
   },
   "source": [
    "<center>\n",
    "\n",
    "# Le catene di Markov\n",
    "\n",
    "</center>\n",
    "\n",
    "<img alt=\"Markov\" src=\"./media/markov.jpg\" style=\"width: 40%; margin: auto; display: block;\" />"
   ]
  },
  {
   "cell_type": "code",
   "execution_count": 4,
   "metadata": {
    "execution": {
     "iopub.execute_input": "2025-03-03T07:45:45.029172Z",
     "iopub.status.busy": "2025-03-03T07:45:45.029089Z",
     "iopub.status.idle": "2025-03-03T07:45:45.031949Z",
     "shell.execute_reply": "2025-03-03T07:45:45.031627Z"
    },
    "slideshow": {
     "slide_type": "slide"
    },
    "tags": [
     "hide"
    ]
   },
   "outputs": [
    {
     "data": {
      "text/markdown": [
       "## Grafi con archi pesati"
      ],
      "text/plain": [
       "<IPython.core.display.Markdown object>"
      ]
     },
     "metadata": {},
     "output_type": "display_data"
    },
    {
     "data": {
      "text/html": [
       "<div style=\"display: flex; justify-content: center; align-items: center; margin: 0; padding: 0; background-color: #F0F1EB;\">\n",
       "<video style=\"width: 800px; height: 450px;\" controls <source src=\"./media/gen/TrainByCharGadda1.mp4\" type=\"video/mp4\">IL tuo browser non supporta i video.</video>\n",
       "</div>"
      ],
      "text/plain": [
       "<IPython.core.display.HTML object>"
      ]
     },
     "metadata": {},
     "output_type": "display_data"
    }
   ],
   "source": [
    "anim('TrainByCharGadda1', 'Grafi con archi pesati')"
   ]
  },
  {
   "cell_type": "code",
   "execution_count": 5,
   "metadata": {
    "execution": {
     "iopub.execute_input": "2025-03-03T07:45:45.032997Z",
     "iopub.status.busy": "2025-03-03T07:45:45.032919Z",
     "iopub.status.idle": "2025-03-03T07:45:45.035738Z",
     "shell.execute_reply": "2025-03-03T07:45:45.035387Z"
    },
    "slideshow": {
     "slide_type": "slide"
    },
    "tags": [
     "hide"
    ]
   },
   "outputs": [
    {
     "data": {
      "text/markdown": [
       "## La statistica furba"
      ],
      "text/plain": [
       "<IPython.core.display.Markdown object>"
      ]
     },
     "metadata": {},
     "output_type": "display_data"
    },
    {
     "data": {
      "text/html": [
       "<div style=\"display: flex; justify-content: center; align-items: center; margin: 0; padding: 0; background-color: #F0F1EB;\">\n",
       "<video style=\"width: 800px; height: 450px;\" controls <source src=\"./media/gen/GenerateByCharGadda1.mp4\" type=\"video/mp4\">IL tuo browser non supporta i video.</video>\n",
       "</div>"
      ],
      "text/plain": [
       "<IPython.core.display.HTML object>"
      ]
     },
     "metadata": {},
     "output_type": "display_data"
    }
   ],
   "source": [
    "anim('GenerateByCharGadda1', 'La statistica furba')"
   ]
  },
  {
   "cell_type": "code",
   "execution_count": 6,
   "metadata": {
    "execution": {
     "iopub.execute_input": "2025-03-03T07:45:45.036736Z",
     "iopub.status.busy": "2025-03-03T07:45:45.036650Z",
     "iopub.status.idle": "2025-03-03T07:45:45.039489Z",
     "shell.execute_reply": "2025-03-03T07:45:45.039144Z"
    },
    "slideshow": {
     "slide_type": "slide"
    },
    "tags": [
     "hide"
    ]
   },
   "outputs": [
    {
     "data": {
      "text/markdown": [
       "## Funziona anche con le parole"
      ],
      "text/plain": [
       "<IPython.core.display.Markdown object>"
      ]
     },
     "metadata": {},
     "output_type": "display_data"
    },
    {
     "data": {
      "text/html": [
       "<div style=\"display: flex; justify-content: center; align-items: center; margin: 0; padding: 0; background-color: #F0F1EB;\">\n",
       "<video style=\"width: 800px; height: 450px;\" controls <source src=\"./media/gen/TrainByWordGiovanni1.mp4\" type=\"video/mp4\">IL tuo browser non supporta i video.</video>\n",
       "</div>"
      ],
      "text/plain": [
       "<IPython.core.display.HTML object>"
      ]
     },
     "metadata": {},
     "output_type": "display_data"
    }
   ],
   "source": [
    "anim('TrainByWordGiovanni1', 'Funziona anche con le parole')"
   ]
  },
  {
   "cell_type": "code",
   "execution_count": 7,
   "metadata": {
    "execution": {
     "iopub.execute_input": "2025-03-03T07:45:45.040598Z",
     "iopub.status.busy": "2025-03-03T07:45:45.040520Z",
     "iopub.status.idle": "2025-03-03T07:45:45.043176Z",
     "shell.execute_reply": "2025-03-03T07:45:45.042892Z"
    },
    "slideshow": {
     "slide_type": "slide"
    },
    "tags": [
     "hide"
    ]
   },
   "outputs": [
    {
     "data": {
      "text/markdown": [
       "## Ecco il risultato"
      ],
      "text/plain": [
       "<IPython.core.display.Markdown object>"
      ]
     },
     "metadata": {},
     "output_type": "display_data"
    },
    {
     "data": {
      "text/html": [
       "<div style=\"display: flex; justify-content: center; align-items: center; margin: 0; padding: 0; background-color: #F0F1EB;\">\n",
       "<video style=\"width: 800px; height: 450px;\" controls <source src=\"./media/gen/GenerateByWordGiovanni1.mp4\" type=\"video/mp4\">IL tuo browser non supporta i video.</video>\n",
       "</div>"
      ],
      "text/plain": [
       "<IPython.core.display.HTML object>"
      ]
     },
     "metadata": {},
     "output_type": "display_data"
    }
   ],
   "source": [
    "anim('GenerateByWordGiovanni1', 'Ecco il risultato')"
   ]
  },
  {
   "cell_type": "code",
   "execution_count": 8,
   "metadata": {
    "execution": {
     "iopub.execute_input": "2025-03-03T07:45:45.044172Z",
     "iopub.status.busy": "2025-03-03T07:45:45.044095Z",
     "iopub.status.idle": "2025-03-03T07:45:45.046786Z",
     "shell.execute_reply": "2025-03-03T07:45:45.046509Z"
    },
    "slideshow": {
     "slide_type": "slide"
    },
    "tags": [
     "hide"
    ]
   },
   "outputs": [
    {
     "data": {
      "text/markdown": [
       "## Con maggior memoria"
      ],
      "text/plain": [
       "<IPython.core.display.Markdown object>"
      ]
     },
     "metadata": {},
     "output_type": "display_data"
    },
    {
     "data": {
      "text/html": [
       "<div style=\"display: flex; justify-content: center; align-items: center; margin: 0; padding: 0; background-color: #F0F1EB;\">\n",
       "<video style=\"width: 800px; height: 450px;\" controls <source src=\"./media/gen/TrainByCharGadda2.mp4\" type=\"video/mp4\">IL tuo browser non supporta i video.</video>\n",
       "</div>"
      ],
      "text/plain": [
       "<IPython.core.display.HTML object>"
      ]
     },
     "metadata": {},
     "output_type": "display_data"
    }
   ],
   "source": [
    "anim('TrainByCharGadda2', 'Con maggior memoria')"
   ]
  },
  {
   "cell_type": "code",
   "execution_count": 9,
   "metadata": {
    "execution": {
     "iopub.execute_input": "2025-03-03T07:45:45.047924Z",
     "iopub.status.busy": "2025-03-03T07:45:45.047839Z",
     "iopub.status.idle": "2025-03-03T07:45:45.050770Z",
     "shell.execute_reply": "2025-03-03T07:45:45.050401Z"
    },
    "slideshow": {
     "slide_type": "slide"
    },
    "tags": [
     "hide"
    ]
   },
   "outputs": [
    {
     "data": {
      "text/markdown": [
       "## Sempre più simile!"
      ],
      "text/plain": [
       "<IPython.core.display.Markdown object>"
      ]
     },
     "metadata": {},
     "output_type": "display_data"
    },
    {
     "data": {
      "text/html": [
       "<div style=\"display: flex; justify-content: center; align-items: center; margin: 0; padding: 0; background-color: #F0F1EB;\">\n",
       "<video style=\"width: 800px; height: 450px;\" controls <source src=\"./media/gen/GenerateByCharGadda2.mp4\" type=\"video/mp4\">IL tuo browser non supporta i video.</video>\n",
       "</div>"
      ],
      "text/plain": [
       "<IPython.core.display.HTML object>"
      ]
     },
     "metadata": {},
     "output_type": "display_data"
    }
   ],
   "source": [
    "anim('GenerateByCharGadda2', 'Sempre più simile!')"
   ]
  },
  {
   "cell_type": "code",
   "execution_count": 10,
   "metadata": {
    "execution": {
     "iopub.execute_input": "2025-03-03T07:45:45.051922Z",
     "iopub.status.busy": "2025-03-03T07:45:45.051843Z",
     "iopub.status.idle": "2025-03-03T07:45:45.054278Z",
     "shell.execute_reply": "2025-03-03T07:45:45.054068Z"
    },
    "slideshow": {
     "slide_type": "slide"
    },
    "tags": [
     "hide"
    ]
   },
   "outputs": [
    {
     "data": {
      "text/markdown": [
       "## Tutte rose e fiori?"
      ],
      "text/plain": [
       "<IPython.core.display.Markdown object>"
      ]
     },
     "metadata": {},
     "output_type": "display_data"
    },
    {
     "data": {
      "text/html": [
       "<div style=\"display: flex; justify-content: center; align-items: center; margin: 0; padding: 0; background-color: #F0F1EB;\">\n",
       "<video style=\"width: 800px; height: 450px;\" controls <source src=\"./media/gen/GenerateByCharGadda3.mp4\" type=\"video/mp4\">IL tuo browser non supporta i video.</video>\n",
       "</div>"
      ],
      "text/plain": [
       "<IPython.core.display.HTML object>"
      ]
     },
     "metadata": {},
     "output_type": "display_data"
    }
   ],
   "source": [
    "anim('GenerateByCharGadda3', 'Tutte rose e fiori?')"
   ]
  },
  {
   "cell_type": "code",
   "execution_count": 11,
   "metadata": {
    "execution": {
     "iopub.execute_input": "2025-03-03T07:45:45.055438Z",
     "iopub.status.busy": "2025-03-03T07:45:45.055282Z",
     "iopub.status.idle": "2025-03-03T07:45:45.057774Z",
     "shell.execute_reply": "2025-03-03T07:45:45.057510Z"
    },
    "slideshow": {
     "slide_type": "slide"
    },
    "tags": [
     "hide"
    ]
   },
   "outputs": [
    {
     "data": {
      "text/markdown": [
       "## Con le parole meglio?"
      ],
      "text/plain": [
       "<IPython.core.display.Markdown object>"
      ]
     },
     "metadata": {},
     "output_type": "display_data"
    },
    {
     "data": {
      "text/html": [
       "<div style=\"display: flex; justify-content: center; align-items: center; margin: 0; padding: 0; background-color: #F0F1EB;\">\n",
       "<video style=\"width: 800px; height: 450px;\" controls <source src=\"./media/gen/GenerateByWordGiovanni2.mp4\" type=\"video/mp4\">IL tuo browser non supporta i video.</video>\n",
       "</div>"
      ],
      "text/plain": [
       "<IPython.core.display.HTML object>"
      ]
     },
     "metadata": {},
     "output_type": "display_data"
    }
   ],
   "source": [
    "anim('GenerateByWordGiovanni2', 'Con le parole meglio?')"
   ]
  },
  {
   "cell_type": "markdown",
   "metadata": {
    "slideshow": {
     "slide_type": "slide"
    }
   },
   "source": [
    "<center>\n",
    "\n",
    "# Giochiamo con catene un po' più grandi…\n",
    "\n",
    "</center>"
   ]
  },
  {
   "cell_type": "markdown",
   "metadata": {
    "slideshow": {
     "slide_type": "slide"
    }
   },
   "source": [
    "<center>\n",
    "\n",
    "# Large Language Models\n",
    "\n",
    "</center>"
   ]
  },
  {
   "cell_type": "markdown",
   "metadata": {
    "slideshow": {
     "slide_type": "slide"
    }
   },
   "source": [
    "## Addestramento\n",
    "\n",
    "<ul>\n",
    "  <li class=\"fragment\">Tantissimi pesi.</li>\n",
    "  <li class=\"fragment\">Non solo i pesi!</li>\n",
    "</ul>\n",
    "\n",
    "&nbsp;\n",
    "\n",
    "## Generazione\n",
    "\n",
    "<ul>\n",
    "  <li class=\"fragment\">Costosa.</li>\n",
    "  <li class=\"fragment\">Allucinatoria!</li>\n",
    "</ul>"
   ]
  },
  {
   "cell_type": "markdown",
   "metadata": {
    "slideshow": {
     "slide_type": "subslide"
    }
   },
   "source": [
    "<img alt=\"Costo degli LLM\" src=\"./media/costballs.jpg\" style=\"width: 50%; margin: auto; display: block;\" />"
   ]
  },
  {
   "cell_type": "markdown",
   "metadata": {
    "slideshow": {
     "slide_type": "subslide"
    }
   },
   "source": [
    "<img alt=\"Proiezione dei costi degli LLM\" src=\"./media/costgraph.png\" style=\"width: 120%; margin: auto; display: block;\" />"
   ]
  },
  {
   "cell_type": "markdown",
   "metadata": {
    "slideshow": {
     "slide_type": "slide"
    }
   },
   "source": [
    "<center>\n",
    "\n",
    "# Attenzione a chi date retta!\n",
    "\n",
    "</center>\n",
    "\n",
    "<img alt=\"Computer e spinello\" src=\"./media/joint.webp\" style=\"width: 40%; margin: auto; display: block;\" />"
   ]
  }
 ],
 "metadata": {
  "kernelspec": {
   "display_name": ".venv",
   "language": "python",
   "name": "python3"
  },
  "language_info": {
   "codemirror_mode": {
    "name": "ipython",
    "version": 3
   },
   "file_extension": ".py",
   "mimetype": "text/x-python",
   "name": "python",
   "nbconvert_exporter": "python",
   "pygments_lexer": "ipython3",
   "version": "3.12.3"
  }
 },
 "nbformat": 4,
 "nbformat_minor": 2
}
