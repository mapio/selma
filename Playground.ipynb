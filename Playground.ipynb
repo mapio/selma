{
 "cells": [
  {
   "cell_type": "markdown",
   "metadata": {},
   "source": [
    "# Giochiamo con le catene di Markov"
   ]
  },
  {
   "cell_type": "markdown",
   "metadata": {},
   "source": [
    "## Caricare i testi e ripulirli"
   ]
  },
  {
   "cell_type": "code",
   "execution_count": 1,
   "metadata": {},
   "outputs": [],
   "source": [
    "from pathlib import Path"
   ]
  },
  {
   "cell_type": "code",
   "execution_count": 7,
   "metadata": {},
   "outputs": [
    {
     "name": "stdout",
     "output_type": "stream",
     "text": [
      "Inferno: Canto I\n",
      "\n",
      "  Nel mezzo del cammin di nostra vita\n",
      "mi ritrovai per una selva oscura\n",
      "ché la diritta via era smarrita.\n",
      "  Ahi quanto a dir qual era è cosa dura\n",
      "esta selva selvaggia e aspra e forte\n",
      "che nel pensier rinova la paura!\n",
      "  Tant'è amara che poco è più morte;\n",
      "ma per trattar del ben ch'i' vi trovai,\n",
      "dirò de l'altre cose ch'i' v'ho scorte.\n",
      "  Io non so ben ridir com'i' v'intrai,\n",
      "tant'era pien di sonno a quel punto\n",
      "che la verace via abbandonai.\n",
      "  Ma poi ch'i' fui al piè d'un colle giunto,\n",
      "l\n"
     ]
    }
   ],
   "source": [
    "ALIGHIERI = Path('./data/alighieri.txt').read_text()\n",
    "\n",
    "print(ALIGHIERI[:500])"
   ]
  },
  {
   "cell_type": "code",
   "execution_count": 8,
   "metadata": {},
   "outputs": [
    {
     "name": "stdout",
     "output_type": "stream",
     "text": [
      "inferno canto i nel mezzo del cammin di nostra vitami ritrovai per una selva oscuraché la diritta via era smarrita ahi quanto a dir qual era è cosa duraesta selva selvaggia e aspra e forteche nel pensier rinova la paura tantè amara che poco è più mortema per trattar del ben chi vi trovaidirò de laltre cose chi vho scorte io non so ben ridir comi vintraitantera pien di sonno a quel puntoche la verace via abbandonai ma poi chi fui al piè dun colle giuntolà dove terminava quella valleche mavea di p\n"
     ]
    }
   ],
   "source": [
    "from selma.mklm import clean_text\n",
    "\n",
    "ALIGHIERI = clean_text(ALIGHIERI)\n",
    "\n",
    "print(ALIGHIERI[:500])"
   ]
  },
  {
   "cell_type": "markdown",
   "metadata": {},
   "source": [
    "## Addestramento"
   ]
  },
  {
   "cell_type": "code",
   "execution_count": 9,
   "metadata": {},
   "outputs": [
    {
     "ename": "ImportError",
     "evalue": "cannot import name 'MarkovChain' from 'selma.mklm' (/home/santini/Documents/Activities/Talks/cremona-2025/selma/mklm.py)",
     "output_type": "error",
     "traceback": [
      "\u001b[0;31m---------------------------------------------------------------------------\u001b[0m",
      "\u001b[0;31mImportError\u001b[0m                               Traceback (most recent call last)",
      "Cell \u001b[0;32mIn[9], line 1\u001b[0m\n\u001b[0;32m----> 1\u001b[0m \u001b[38;5;28;01mfrom\u001b[39;00m\u001b[38;5;250m \u001b[39m\u001b[38;5;21;01mselma\u001b[39;00m\u001b[38;5;21;01m.\u001b[39;00m\u001b[38;5;21;01mmklm\u001b[39;00m\u001b[38;5;250m \u001b[39m\u001b[38;5;28;01mimport\u001b[39;00m MarkovChain\n\u001b[1;32m      3\u001b[0m MC \u001b[38;5;241m=\u001b[39m MarkovChain(ALIGHIERI, \u001b[38;5;241m3\u001b[39m)\n",
      "\u001b[0;31mImportError\u001b[0m: cannot import name 'MarkovChain' from 'selma.mklm' (/home/santini/Documents/Activities/Talks/cremona-2025/selma/mklm.py)"
     ]
    }
   ],
   "source": [
    "from selma.mklm import MarkovChain\n",
    "\n",
    "MC = MarkovChain(ALIGHIERI, 3)"
   ]
  },
  {
   "cell_type": "markdown",
   "metadata": {},
   "source": []
  }
 ],
 "metadata": {
  "kernelspec": {
   "display_name": ".venv",
   "language": "python",
   "name": "python3"
  },
  "language_info": {
   "codemirror_mode": {
    "name": "ipython",
    "version": 3
   },
   "file_extension": ".py",
   "mimetype": "text/x-python",
   "name": "python",
   "nbconvert_exporter": "python",
   "pygments_lexer": "ipython3",
   "version": "3.12.3"
  }
 },
 "nbformat": 4,
 "nbformat_minor": 2
}
