{
 "cells": [
  {
   "cell_type": "markdown",
   "metadata": {},
   "source": [
    "# Giochiamo con le catene di Markov"
   ]
  },
  {
   "cell_type": "markdown",
   "metadata": {},
   "source": [
    "## Preparare i testi"
   ]
  },
  {
   "cell_type": "code",
   "execution_count": 31,
   "metadata": {},
   "outputs": [],
   "source": [
    "from pathlib import Path"
   ]
  },
  {
   "cell_type": "code",
   "execution_count": 32,
   "metadata": {},
   "outputs": [
    {
     "name": "stdout",
     "output_type": "stream",
     "text": [
      "Inferno: Canto I\n",
      "\n",
      "  Nel mezzo del cammin di nostra vita\n",
      "mi ritrovai per una selva oscura\n",
      "ché la diritta via era smarrita.\n",
      "  Ahi quanto a dir qual era è cosa dura\n",
      "esta selva selvaggia e aspra e forte\n",
      "che nel pensier rinova la paura!\n",
      "  Tant'è amara che poco è più morte;\n",
      "ma per trattar del ben ch'i' vi trovai,\n",
      "dirò de l'altre cose ch'i' v'ho scorte.\n",
      "  Io non so ben ridir com'i' v'intrai,\n",
      "tant'era pien di sonno a quel punto\n",
      "che la verace via abbandonai.\n",
      "  Ma poi ch'i' fui al piè d'un colle giunto,\n",
      "l\n"
     ]
    }
   ],
   "source": [
    "ALIGHIERI = Path('./data/alighieri.txt').read_text()\n",
    "\n",
    "print(ALIGHIERI[:500])"
   ]
  },
  {
   "cell_type": "code",
   "execution_count": 33,
   "metadata": {},
   "outputs": [
    {
     "name": "stdout",
     "output_type": "stream",
     "text": [
      "inferno canto i nel mezzo del cammin di nostra vita mi ritrovai per una selva os\n"
     ]
    }
   ],
   "source": [
    "from selma.mklm import clean_text\n",
    "\n",
    "ALIGHIERI = clean_text(ALIGHIERI)\n",
    "\n",
    "print(ALIGHIERI[:80])"
   ]
  },
  {
   "cell_type": "code",
   "execution_count": 36,
   "metadata": {},
   "outputs": [
    {
     "name": "stdout",
     "output_type": "stream",
     "text": [
      "introduzione l historia si può veramente deffinire una guerra illustre contro il\n"
     ]
    }
   ],
   "source": [
    "MANZONI = clean_text(Path('./data/manzoni.txt').read_text())\n",
    "\n",
    "print(MANZONI[:80])"
   ]
  },
  {
   "cell_type": "markdown",
   "metadata": {},
   "source": [
    "## Addestramento"
   ]
  },
  {
   "cell_type": "code",
   "execution_count": 4,
   "metadata": {},
   "outputs": [],
   "source": [
    "from selma.mklm import MarkovChainTextGenerator, topk"
   ]
  },
  {
   "cell_type": "code",
   "execution_count": 5,
   "metadata": {},
   "outputs": [],
   "source": [
    "# L'ordine corrisponde a quanta memoria usare\n",
    "\n",
    "MC1 = MarkovChainTextGenerator(order=1)\n",
    "MC1.train(ALIGHIERI)"
   ]
  },
  {
   "cell_type": "code",
   "execution_count": 19,
   "metadata": {},
   "outputs": [
    {
     "data": {
      "text/plain": [
       "[('amato', 1),\n",
       " ('spendio', 1),\n",
       " ('martiro', 1),\n",
       " ('è', 1),\n",
       " ('bel', 1),\n",
       " ('fatto', 1),\n",
       " ('però', 1),\n",
       " ('costo', 1),\n",
       " ('creato', 1),\n",
       " ('vi', 1)]"
      ]
     },
     "execution_count": 19,
     "metadata": {},
     "output_type": "execute_result"
    }
   ],
   "source": [
    "topk(MC1, ('nullo',), 10)"
   ]
  },
  {
   "cell_type": "code",
   "execution_count": 7,
   "metadata": {},
   "outputs": [
    {
     "data": {
      "text/plain": [
       "[('e', 8),\n",
       " ('che', 7),\n",
       " ('per', 5),\n",
       " ('non', 4),\n",
       " ('a', 4),\n",
       " ('mi', 4),\n",
       " ('li', 3),\n",
       " ('in', 3),\n",
       " ('ne', 3),\n",
       " ('tutti', 2)]"
      ]
     },
     "execution_count": 7,
     "metadata": {},
     "output_type": "execute_result"
    }
   ],
   "source": [
    "topk(MC1, ('dio',), 10)"
   ]
  },
  {
   "cell_type": "code",
   "execution_count": 8,
   "metadata": {},
   "outputs": [],
   "source": [
    "MC2 = MarkovChainTextGenerator(order=2)\n",
    "MC2.train(ALIGHIERI)"
   ]
  },
  {
   "cell_type": "code",
   "execution_count": 18,
   "metadata": {},
   "outputs": [
    {
     "data": {
      "text/plain": [
       "[('amar', 1)]"
      ]
     },
     "execution_count": 18,
     "metadata": {},
     "output_type": "execute_result"
    }
   ],
   "source": [
    "topk(MC2, ('nullo','amato'), 10)"
   ]
  },
  {
   "cell_type": "markdown",
   "metadata": {},
   "source": [
    "## Generazione"
   ]
  },
  {
   "cell_type": "code",
   "execution_count": 23,
   "metadata": {},
   "outputs": [
    {
     "name": "stdout",
     "output_type": "stream",
     "text": [
      "gru pentere ovile morria rimasero disfiorando inginocchiato velocissime siringa \n"
     ]
    }
   ],
   "source": [
    "testo = MC2.generate(length=100)\n",
    "\n",
    "print(testo[:80])"
   ]
  },
  {
   "cell_type": "code",
   "execution_count": 27,
   "metadata": {},
   "outputs": [
    {
     "name": "stdout",
     "output_type": "stream",
     "text": [
      "gru pentere ovile morria rimasero\n",
      "disfiorando inginocchiato velocissime\n",
      "siringa feste giuste dona dirai savio\n",
      "chinato anzi demofoonte restammo hanno\n",
      "socero frange domandollo differendo\n",
      "giochi agguagli dito inverno piage ditel\n",
      "rammenta stante smorta narrata stral\n",
      "prava spada guarda richiuso sedi\n",
      "parrebber forlì dismaga ammonir pallade\n",
      "bramo difetti ordite reina abborra\n",
      "foglie bellezza soccorre cangiar veiculo\n",
      "accorgimento vittore vincenti pennuta\n",
      "sottili vicine arcivescovo ganellone\n",
      "bolle vattene trasmuti trapunta messe\n",
      "dolcemente augel rimproverando decurio\n",
      "conosceranno quadrel domine benché\n",
      "conchiude riguardai donerà austro\n",
      "sorpriso germoglia pareami labor quadrel\n",
      "sorprende ficcavan mendaci ritegno corno\n",
      "biechi corruzione martiri aguzza volerne\n",
      "dichiarar convegno stesso figurarlo\n",
      "boschi cinq\n"
     ]
    }
   ],
   "source": [
    "from textwrap import fill # spezza il testo in righe di una certa lunghezza\n",
    "\n",
    "print(fill(testo, width=40))"
   ]
  },
  {
   "cell_type": "markdown",
   "metadata": {},
   "source": [
    "## E carattere per carattere?"
   ]
  },
  {
   "cell_type": "code",
   "execution_count": 61,
   "metadata": {},
   "outputs": [],
   "source": [
    "PS = MarkovChainTextGenerator(\n",
    "  order=3, token_type='char', \n",
    "  smoothing_alpha=0,\n",
    "  interpolation=False\n",
    "  )\n",
    "PS.train(MANZONI)"
   ]
  },
  {
   "cell_type": "code",
   "execution_count": 66,
   "metadata": {},
   "outputs": [
    {
     "name": "stdout",
     "output_type": "stream",
     "text": [
      "qs lo e vero oh fuore tran son lo crepliscappostravvica a timo quella lui sì\n",
      "atte sta darone la premodo e chi dargli signi passe diffino e terromenato che l\n",
      "arcignor da ho busciuga sue dal delloro aspete princia del paeser ne voglio e\n",
      "che a rimanimasciuto quel momenti e dovero chiedere del rivamentente paneamento\n",
      "a coi compostuistra della a cagna preste che stell essuno in giude e dietrovare\n",
      "non senzonaggioce il con carico era prestizionese non quel moni volenza pondar\n",
      "le sile discoper il grano\n"
     ]
    }
   ],
   "source": [
    "testo = PS.generate(length=500)\n",
    "print(fill(testo, width=80))"
   ]
  }
 ],
 "metadata": {
  "kernelspec": {
   "display_name": ".venv",
   "language": "python",
   "name": "python3"
  },
  "language_info": {
   "codemirror_mode": {
    "name": "ipython",
    "version": 3
   },
   "file_extension": ".py",
   "mimetype": "text/x-python",
   "name": "python",
   "nbconvert_exporter": "python",
   "pygments_lexer": "ipython3",
   "version": "3.12.3"
  }
 },
 "nbformat": 4,
 "nbformat_minor": 2
}
